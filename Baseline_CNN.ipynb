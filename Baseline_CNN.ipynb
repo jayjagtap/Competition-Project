{
  "nbformat": 4,
  "nbformat_minor": 0,
  "metadata": {
    "colab": {
      "name": "Competition Project",
      "provenance": [],
      "collapsed_sections": [],
      "machine_shape": "hm"
    },
    "kernelspec": {
      "name": "python3",
      "display_name": "Python 3"
    },
    "accelerator": "GPU"
  },
  "cells": [
    {
      "cell_type": "markdown",
      "metadata": {
        "id": "xxcSHZAk-Jbj",
        "colab_type": "text"
      },
      "source": [
        "## Mounting Google Drive"
      ]
    },
    {
      "cell_type": "code",
      "metadata": {
        "id": "4m_wmYMELNsR",
        "colab_type": "code",
        "outputId": "091dfc7c-bb1b-4622-ae76-10a756f40319",
        "colab": {
          "base_uri": "https://localhost:8080/",
          "height": 122
        }
      },
      "source": [
        "from google.colab import drive\n",
        "drive.mount('/content/drive')"
      ],
      "execution_count": 0,
      "outputs": [
        {
          "output_type": "stream",
          "text": [
            "Go to this URL in a browser: https://accounts.google.com/o/oauth2/auth?client_id=947318989803-6bn6qk8qdgf4n4g3pfee6491hc0brc4i.apps.googleusercontent.com&redirect_uri=urn%3aietf%3awg%3aoauth%3a2.0%3aoob&response_type=code&scope=email%20https%3a%2f%2fwww.googleapis.com%2fauth%2fdocs.test%20https%3a%2f%2fwww.googleapis.com%2fauth%2fdrive%20https%3a%2f%2fwww.googleapis.com%2fauth%2fdrive.photos.readonly%20https%3a%2f%2fwww.googleapis.com%2fauth%2fpeopleapi.readonly\n",
            "\n",
            "Enter your authorization code:\n",
            "··········\n",
            "Mounted at /content/drive\n"
          ],
          "name": "stdout"
        }
      ]
    },
    {
      "cell_type": "markdown",
      "metadata": {
        "id": "gjye21JS-W3i",
        "colab_type": "text"
      },
      "source": [
        "## Importing Required Files"
      ]
    },
    {
      "cell_type": "code",
      "metadata": {
        "id": "ZujvJK20XF8J",
        "colab_type": "code",
        "colab": {}
      },
      "source": [
        "import os\n",
        "import zipfile\n",
        "import numpy as np\n",
        "import tensorflow as tf\n",
        "from tensorflow import keras\n",
        "import matplotlib.pyplot as plt"
      ],
      "execution_count": 0,
      "outputs": []
    },
    {
      "cell_type": "markdown",
      "metadata": {
        "id": "zBfxBnEc-7Sz",
        "colab_type": "text"
      },
      "source": [
        "## Knowing your Data"
      ]
    },
    {
      "cell_type": "code",
      "metadata": {
        "id": "HqkkMkZULeCR",
        "colab_type": "code",
        "outputId": "bea1d0cf-68fc-4a56-cbaa-0c805b633365",
        "colab": {
          "base_uri": "https://localhost:8080/",
          "height": 204
        }
      },
      "source": [
        "\n",
        "print(\"Knowing our train data\")\n",
        "train_0_dir = os.path.join('/content/drive/My Drive/Projects/Neural_Network_Competition_Project/Data Split/TrainData/0')\n",
        "train_0_names = os.listdir(train_0_dir)\n",
        "print(\"Class 0 has: \", len(train_0_names) , \" images.\" )\n",
        "print(train_0_names[:10])\n",
        "\n",
        "train_1_dir = os.path.join('/content/drive/My Drive/Projects/Neural_Network_Competition_Project/Data Split/TrainData/1')\n",
        "train_1_names = os.listdir(train_1_dir)\n",
        "print(\"Class 1 has: \", len(train_1_names) , \" images.\" )\n",
        "print(train_1_names[:10])\n",
        "\n",
        "train_2_dir = os.path.join('/content/drive/My Drive/Projects/Neural_Network_Competition_Project/Data Split/TrainData/2')\n",
        "train_2_names = os.listdir(train_2_dir)\n",
        "print(\"Class 2 has: \", len(train_2_names) , \" images.\" )\n",
        "print(train_2_names[:10])\n",
        "\n",
        "train_3_dir = os.path.join('/content/drive/My Drive/Projects/Neural_Network_Competition_Project/Data Split/TrainData/3')\n",
        "train_3_names = os.listdir(train_3_dir)\n",
        "print(\"Class 3 has: \", len(train_3_names) , \" images.\" )\n",
        "print(train_3_names[:10])\n",
        "\n",
        "\n",
        "train_4_dir = os.path.join('/content/drive/My Drive/Projects/Neural_Network_Competition_Project/Data Split/TrainData/4')\n",
        "train_4_names = os.listdir(train_4_dir)\n",
        "print(\"Class 4 has: \", len(train_4_names) , \" images.\" )\n",
        "print(train_4_names[:10])"
      ],
      "execution_count": 0,
      "outputs": [
        {
          "output_type": "stream",
          "text": [
            "Knowing our train data\n",
            "Class 0 has:  366  images.\n",
            "['000006.jpg', '000016.jpg', '000104.jpg', '000253.jpg', '000265.jpg', '000353.jpg', '000387.jpg', '000488.jpg', '000747.jpg', '000821.jpg']\n",
            "Class 1 has:  139  images.\n",
            "['000401.jpg', '000470.jpg', '000635.jpg', '000704.jpg', '001064.jpg', '001279.jpg', '001405.jpg', '001411.jpg', '001578.jpg', '001598.jpg']\n",
            "Class 2 has:  98  images.\n",
            "['000300.jpg', '000306.jpg', '000698.jpg', '000758.jpg', '000778.jpg', '001163.jpg', '001197.jpg', '001213.jpg', '002702.jpg', '003006.jpg']\n",
            "Class 3 has:  98  images.\n",
            "['000122.jpg', '000424.jpg', '000608.jpg', '000710.jpg', '000738.jpg', '001027.jpg', '001118.jpg', '001140.jpg', '001219.jpg', '001238.jpg']\n",
            "Class 4 has:  68  images.\n",
            "['000097.jpg', '000237.jpg', '000555.jpg', '000770.jpg', '000934.jpg', '001636.jpg', '001659.jpg', '001726.jpg', '002185.jpg', '002191.jpg']\n"
          ],
          "name": "stdout"
        }
      ]
    },
    {
      "cell_type": "markdown",
      "metadata": {
        "id": "G_1g1ynE_C2C",
        "colab_type": "text"
      },
      "source": [
        "## Write a Tensorflow Model"
      ]
    },
    {
      "cell_type": "code",
      "metadata": {
        "id": "V9j2oUoiS5yS",
        "colab_type": "code",
        "colab": {}
      },
      "source": [
        "import tensorflow as tf\n",
        "\n",
        "\n",
        "class myCallback(# your code\n",
        "    tf.keras.callbacks.Callback):\n",
        "    def on_epoch_end(self, epoch, logs={}):\n",
        "      if(logs.get('acc')>0.99):\n",
        "        print(\"\\nReached 99% accuracy so cancelling training!\")\n",
        "        self.model.stop_training = True\n",
        "    \n",
        "callbacks = myCallback()\n",
        "#image size = (640,480)\n",
        "# Model accuracy between 80-85%\n",
        "# model = tf.keras.models.Sequential([\n",
        "#     # Your Code Here\n",
        "#     tf.keras.layers.Conv2D(8, (5,5), activation='relu', input_shape=(640,480,3)),\n",
        "#     tf.keras.layers.MaxPooling2D(3,3),\n",
        "#     #tf.keras.layers.Dropout(rate=0.2),\n",
        "#     tf.keras.layers.Conv2D(16,(3,3), activation='relu'),\n",
        "#     tf.keras.layers.MaxPooling2D(2,2),\n",
        "#     tf.keras.layers.Conv2D(32, (2,2), activation ='relu'),\n",
        "#     tf.keras.layers.MaxPooling2D(2,2),\n",
        "#     #tf.keras.layers.Dropout(rate=0.1),\n",
        "#     tf.keras.layers.Flatten(),\n",
        "#     tf.keras.layers.Dense(256, activation ='relu'),\n",
        "#     tf.keras.layers.Dense(512, activation = 'relu'),\n",
        "#     tf.keras.layers.Dense(1024, activation = 'relu'),\n",
        "#     tf.keras.layers.Dense(5 , activation = tf.nn.softmax)\n",
        "# ])\n",
        "# model.summary()  \n",
        "\n",
        "model = tf.keras.models.Sequential([\n",
        "    # Your Code Here\n",
        "    tf.keras.layers.Conv2D(32, (5,5), activation='relu', input_shape=(640,480,3)),\n",
        "    tf.keras.layers.MaxPooling2D(3,3),\n",
        "    tf.keras.layers.Conv2D(64,(3,3), activation='relu'),\n",
        "    tf.keras.layers.MaxPooling2D(3,3),\n",
        "    tf.keras.layers.Conv2D(128, (3,3), activation ='relu'),\n",
        "    tf.keras.layers.MaxPooling2D(2,2),\n",
        "    tf.keras.layers.Flatten(),\n",
        "    tf.keras.layers.Dense(512, activation = 'relu'),\n",
        "    tf.keras.layers.Dense(256, activation = 'relu'),\n",
        "    tf.keras.layers.Dense(128, activation = 'relu'),\n",
        "    tf.keras.layers.Dense(5 , activation = tf.nn.softmax)\n",
        "])\n",
        "\n"
      ],
      "execution_count": 0,
      "outputs": []
    },
    {
      "cell_type": "markdown",
      "metadata": {
        "id": "5vfoxEAN_R3I",
        "colab_type": "text"
      },
      "source": [
        "## Model Summary"
      ]
    },
    {
      "cell_type": "code",
      "metadata": {
        "id": "7gImFomL_NPT",
        "colab_type": "code",
        "outputId": "b66de662-8fee-4c49-9e47-808722371e8e",
        "colab": {
          "base_uri": "https://localhost:8080/",
          "height": 527
        }
      },
      "source": [
        "model.summary() "
      ],
      "execution_count": 0,
      "outputs": [
        {
          "output_type": "stream",
          "text": [
            "Model: \"sequential_1\"\n",
            "_________________________________________________________________\n",
            "Layer (type)                 Output Shape              Param #   \n",
            "=================================================================\n",
            "conv2d_3 (Conv2D)            (None, 636, 476, 32)      2432      \n",
            "_________________________________________________________________\n",
            "max_pooling2d_3 (MaxPooling2 (None, 212, 158, 32)      0         \n",
            "_________________________________________________________________\n",
            "conv2d_4 (Conv2D)            (None, 210, 156, 64)      18496     \n",
            "_________________________________________________________________\n",
            "max_pooling2d_4 (MaxPooling2 (None, 70, 52, 64)        0         \n",
            "_________________________________________________________________\n",
            "conv2d_5 (Conv2D)            (None, 68, 50, 128)       73856     \n",
            "_________________________________________________________________\n",
            "max_pooling2d_5 (MaxPooling2 (None, 34, 25, 128)       0         \n",
            "_________________________________________________________________\n",
            "flatten_1 (Flatten)          (None, 108800)            0         \n",
            "_________________________________________________________________\n",
            "dense_4 (Dense)              (None, 512)               55706112  \n",
            "_________________________________________________________________\n",
            "dense_5 (Dense)              (None, 256)               131328    \n",
            "_________________________________________________________________\n",
            "dense_6 (Dense)              (None, 128)               32896     \n",
            "_________________________________________________________________\n",
            "dense_7 (Dense)              (None, 5)                 645       \n",
            "=================================================================\n",
            "Total params: 55,965,765\n",
            "Trainable params: 55,965,765\n",
            "Non-trainable params: 0\n",
            "_________________________________________________________________\n"
          ],
          "name": "stdout"
        }
      ]
    },
    {
      "cell_type": "markdown",
      "metadata": {
        "id": "vcQWzicW_Vbe",
        "colab_type": "text"
      },
      "source": [
        "## Create Train data generator and Fit data generator"
      ]
    },
    {
      "cell_type": "code",
      "metadata": {
        "id": "gaUdu7x9CMW6",
        "colab_type": "code",
        "outputId": "5cd24f83-a69b-446e-864b-ceda91006a4a",
        "colab": {
          "base_uri": "https://localhost:8080/",
          "height": 51
        }
      },
      "source": [
        "from tensorflow.keras.preprocessing.image import ImageDataGenerator\n",
        "\n",
        "train_datagen = ImageDataGenerator(rescale=1.0/255)\n",
        "\n",
        "train_generator = train_datagen.flow_from_directory(\n",
        "directory =  r\"/content/drive/My Drive/Projects/Neural_Network_Competition_Project/Data Split/TrainData\",\n",
        "target_size=(640,480),\n",
        "batch_size = 32,\n",
        "class_mode = \"sparse\" )\n",
        "\n",
        "validation_generator = train_datagen.flow_from_directory(\n",
        "directory =  r\"/content/drive/My Drive/Projects/Neural_Network_Competition_Project/Data Split/ValData\",\n",
        "target_size=(640,480),\n",
        "batch_size = 32,\n",
        "class_mode = \"sparse\" )"
      ],
      "execution_count": 0,
      "outputs": [
        {
          "output_type": "stream",
          "text": [
            "Found 769 images belonging to 5 classes.\n",
            "Found 256 images belonging to 5 classes.\n"
          ],
          "name": "stdout"
        }
      ]
    },
    {
      "cell_type": "markdown",
      "metadata": {
        "id": "J7UrBduOC9JL",
        "colab_type": "text"
      },
      "source": [
        "## Fit Model"
      ]
    },
    {
      "cell_type": "code",
      "metadata": {
        "id": "rPwJbMOODAVH",
        "colab_type": "code",
        "outputId": "f34fdad3-fbde-4bb6-ceb3-596ee6f538bf",
        "colab": {
          "base_uri": "https://localhost:8080/",
          "height": 1000
        }
      },
      "source": [
        "model.compile(loss='sparse_categorical_crossentropy', optimizer = 'adam',metrics=['acc'])\n",
        "\n",
        "history = model.fit_generator(train_generator, epochs = 25, validation_data = validation_generator, verbose = 2, callbacks = [callbacks])"
      ],
      "execution_count": 0,
      "outputs": [
        {
          "output_type": "stream",
          "text": [
            "Epoch 1/25\n",
            "Epoch 1/25\n",
            "25/25 - 17s - loss: 1.6829 - acc: 0.4629 - val_loss: 1.4017 - val_acc: 0.4766\n",
            "Epoch 2/25\n",
            "Epoch 1/25\n",
            "25/25 - 14s - loss: 1.4301 - acc: 0.4551 - val_loss: 1.5160 - val_acc: 0.4766\n",
            "Epoch 3/25\n",
            "Epoch 1/25\n",
            "25/25 - 14s - loss: 1.4218 - acc: 0.4759 - val_loss: 1.3967 - val_acc: 0.4766\n",
            "Epoch 4/25\n",
            "Epoch 1/25\n",
            "25/25 - 14s - loss: 1.3631 - acc: 0.4759 - val_loss: 1.2992 - val_acc: 0.4766\n",
            "Epoch 5/25\n",
            "Epoch 1/25\n",
            "25/25 - 14s - loss: 1.4206 - acc: 0.4759 - val_loss: 1.3793 - val_acc: 0.4766\n",
            "Epoch 6/25\n",
            "Epoch 1/25\n",
            "25/25 - 14s - loss: 1.3068 - acc: 0.4603 - val_loss: 1.2993 - val_acc: 0.4766\n",
            "Epoch 7/25\n",
            "Epoch 1/25\n",
            "25/25 - 14s - loss: 1.2387 - acc: 0.5410 - val_loss: 1.4109 - val_acc: 0.4766\n",
            "Epoch 8/25\n",
            "Epoch 1/25\n",
            "25/25 - 14s - loss: 1.2390 - acc: 0.5215 - val_loss: 1.1062 - val_acc: 0.5547\n",
            "Epoch 9/25\n",
            "Epoch 1/25\n",
            "25/25 - 14s - loss: 1.1215 - acc: 0.5709 - val_loss: 1.0806 - val_acc: 0.5703\n",
            "Epoch 10/25\n",
            "Epoch 1/25\n",
            "25/25 - 14s - loss: 0.9949 - acc: 0.6216 - val_loss: 1.1277 - val_acc: 0.5977\n",
            "Epoch 11/25\n",
            "Epoch 1/25\n",
            "25/25 - 14s - loss: 0.9578 - acc: 0.6255 - val_loss: 0.9035 - val_acc: 0.6250\n",
            "Epoch 12/25\n",
            "Epoch 1/25\n",
            "25/25 - 14s - loss: 0.9167 - acc: 0.6463 - val_loss: 0.9901 - val_acc: 0.6094\n",
            "Epoch 13/25\n",
            "Epoch 1/25\n",
            "25/25 - 14s - loss: 0.8322 - acc: 0.6736 - val_loss: 0.8451 - val_acc: 0.6953\n",
            "Epoch 14/25\n",
            "Epoch 1/25\n",
            "25/25 - 14s - loss: 0.7211 - acc: 0.7074 - val_loss: 0.7914 - val_acc: 0.7031\n",
            "Epoch 15/25\n",
            "Epoch 1/25\n",
            "25/25 - 14s - loss: 0.5960 - acc: 0.7789 - val_loss: 0.6857 - val_acc: 0.7422\n",
            "Epoch 16/25\n",
            "Epoch 1/25\n",
            "25/25 - 14s - loss: 0.3786 - acc: 0.8544 - val_loss: 0.6494 - val_acc: 0.7773\n",
            "Epoch 17/25\n",
            "Epoch 1/25\n",
            "25/25 - 14s - loss: 0.3208 - acc: 0.8713 - val_loss: 0.6869 - val_acc: 0.7578\n",
            "Epoch 18/25\n",
            "Epoch 1/25\n",
            "25/25 - 14s - loss: 0.1826 - acc: 0.9324 - val_loss: 0.5816 - val_acc: 0.8086\n",
            "Epoch 19/25\n",
            "Epoch 1/25\n",
            "25/25 - 14s - loss: 0.1103 - acc: 0.9675 - val_loss: 0.6521 - val_acc: 0.8281\n",
            "Epoch 20/25\n",
            "Epoch 1/25\n",
            "25/25 - 14s - loss: 0.0695 - acc: 0.9740 - val_loss: 0.9275 - val_acc: 0.8164\n",
            "Epoch 21/25\n",
            "Epoch 1/25\n",
            "25/25 - 14s - loss: 0.0366 - acc: 0.9857 - val_loss: 0.7808 - val_acc: 0.8320\n",
            "Epoch 22/25\n",
            "Epoch 1/25\n",
            "\n",
            "Reached 99% accuracy so cancelling training!\n",
            "25/25 - 14s - loss: 0.0167 - acc: 0.9935 - val_loss: 0.8085 - val_acc: 0.8438\n"
          ],
          "name": "stdout"
        }
      ]
    },
    {
      "cell_type": "markdown",
      "metadata": {
        "id": "OkvB0SIq_jpi",
        "colab_type": "text"
      },
      "source": [
        "## Save the model"
      ]
    },
    {
      "cell_type": "code",
      "metadata": {
        "id": "FsNXyB05T5ON",
        "colab_type": "code",
        "colab": {}
      },
      "source": [
        "\n",
        "model.save('/content/drive/My Drive/Projects/Neural_Network_Competition_Project/Data Split/model7.h5')\n",
        "with open('/content/drive/My Drive/Projects/Neural_Network_Competition_Project/Data Split/model7_architecture.json', 'w') as f:\n",
        "    f.write(model.to_json())\n",
        "#model2 val accuracy = 79.3\n",
        "#model3 val accuracy = 85.94"
      ],
      "execution_count": 0,
      "outputs": []
    },
    {
      "cell_type": "markdown",
      "metadata": {
        "id": "TwrhUfhA_ssb",
        "colab_type": "text"
      },
      "source": [
        "## Make a test data Genereator"
      ]
    },
    {
      "cell_type": "code",
      "metadata": {
        "id": "2eMRNDoLixAv",
        "colab_type": "code",
        "outputId": "ee943ab7-5912-430c-c4cf-dcb3bac1887c",
        "colab": {
          "base_uri": "https://localhost:8080/",
          "height": 51
        }
      },
      "source": [
        "test_dir = os.path.join('/content/drive/My Drive/Projects/Neural_Network_Competition_Project/Data Split/Test/0')\n",
        "test_names = os.listdir(test_dir)\n",
        "print(\"Test data has: \", len(test_names) , \" images.\" )\n",
        "print(test_names[:10])"
      ],
      "execution_count": 0,
      "outputs": [
        {
          "output_type": "stream",
          "text": [
            "Test data has:  300  images.\n",
            "['21051.jpg', '21316.jpg', '20263.jpg', '20739.jpg', '24352.jpg', '22387.jpg', '21851.jpg', '21348.jpg', '22320.jpg', '22482.jpg']\n"
          ],
          "name": "stdout"
        }
      ]
    },
    {
      "cell_type": "code",
      "metadata": {
        "colab_type": "code",
        "outputId": "2be606bb-df42-4978-8bbb-856999964ae6",
        "id": "maKRA4USNGD0",
        "colab": {
          "base_uri": "https://localhost:8080/",
          "height": 71
        }
      },
      "source": [
        "\n",
        "from tensorflow.keras.preprocessing.image import ImageDataGenerator\n",
        "test_datagen = ImageDataGenerator(rescale=1./255)\n",
        "\n",
        "test_generator = test_datagen.flow_from_directory(\n",
        "        directory = r\"/content/drive/My Drive/Projects/Neural_Network_Competition_Project/Data Split/Test\",\n",
        "        target_size=(640, 480),\n",
        "        color_mode=\"rgb\",\n",
        "        shuffle = False,\n",
        "        class_mode='sparse',\n",
        "        batch_size=1)\n",
        "\n",
        "filenames = test_generator.filenames\n",
        "print(filenames)"
      ],
      "execution_count": 0,
      "outputs": [
        {
          "output_type": "stream",
          "text": [
            "Found 300 images belonging to 1 classes.\n",
            "['0/20018.jpg', '0/20031.jpg', '0/20036.jpg', '0/20069.jpg', '0/20110.jpg', '0/20140.jpg', '0/20172.jpg', '0/20173.jpg', '0/20174.jpg', '0/20244.jpg', '0/20253.jpg', '0/20263.jpg', '0/20297.jpg', '0/20323.jpg', '0/20351.jpg', '0/20446.jpg', '0/20510.jpg', '0/20535.jpg', '0/20584.jpg', '0/20597.jpg', '0/20619.jpg', '0/20639.jpg', '0/20693.jpg', '0/20718.jpg', '0/20720.jpg', '0/20732.jpg', '0/20739.jpg', '0/20783.jpg', '0/20794.jpg', '0/20795.jpg', '0/20801.jpg', '0/20810.jpg', '0/20833.jpg', '0/20835.jpg', '0/20836.jpg', '0/20848.jpg', '0/20849.jpg', '0/20861.jpg', '0/20877.jpg', '0/20881.jpg', '0/20927.jpg', '0/20941.jpg', '0/20963.jpg', '0/20980.jpg', '0/20999.jpg', '0/21027.jpg', '0/21039.jpg', '0/21047.jpg', '0/21048.jpg', '0/21051.jpg', '0/21095.jpg', '0/21104.jpg', '0/21128.jpg', '0/21136.jpg', '0/21153.jpg', '0/21176.jpg', '0/21220.jpg', '0/21240.jpg', '0/21267.jpg', '0/21310.jpg', '0/21316.jpg', '0/21343.jpg', '0/21348.jpg', '0/21366.jpg', '0/21423.jpg', '0/21424.jpg', '0/21455.jpg', '0/21457.jpg', '0/21506.jpg', '0/21566.jpg', '0/21598.jpg', '0/21620.jpg', '0/21621.jpg', '0/21659.jpg', '0/21698.jpg', '0/21725.jpg', '0/21729.jpg', '0/21763.jpg', '0/21773.jpg', '0/21818.jpg', '0/21819.jpg', '0/21851.jpg', '0/21858.jpg', '0/21863.jpg', '0/21883.jpg', '0/21896.jpg', '0/21934.jpg', '0/21949.jpg', '0/22010.jpg', '0/22021.jpg', '0/22090.jpg', '0/22105.jpg', '0/22127.jpg', '0/22145.jpg', '0/22151.jpg', '0/22158.jpg', '0/22202.jpg', '0/22213.jpg', '0/22231.jpg', '0/22241.jpg', '0/22246.jpg', '0/22279.jpg', '0/22291.jpg', '0/22320.jpg', '0/22349.jpg', '0/22377.jpg', '0/22385.jpg', '0/22387.jpg', '0/22402.jpg', '0/22409.jpg', '0/22415.jpg', '0/22432.jpg', '0/22438.jpg', '0/22441.jpg', '0/22464.jpg', '0/22467.jpg', '0/22482.jpg', '0/22497.jpg', '0/22522.jpg', '0/22551.jpg', '0/22554.jpg', '0/22628.jpg', '0/22629.jpg', '0/22641.jpg', '0/22642.jpg', '0/22645.jpg', '0/22655.jpg', '0/22666.jpg', '0/22669.jpg', '0/22757.jpg', '0/22765.jpg', '0/22768.jpg', '0/22790.jpg', '0/22795.jpg', '0/22800.jpg', '0/22806.jpg', '0/22826.jpg', '0/22856.jpg', '0/22870.jpg', '0/22875.jpg', '0/22895.jpg', '0/22923.jpg', '0/22963.jpg', '0/22973.jpg', '0/22980.jpg', '0/22987.jpg', '0/23019.jpg', '0/23041.jpg', '0/23112.jpg', '0/23121.jpg', '0/23146.jpg', '0/23160.jpg', '0/23195.jpg', '0/23229.jpg', '0/23273.jpg', '0/23278.jpg', '0/23281.jpg', '0/23291.jpg', '0/23304.jpg', '0/23330.jpg', '0/23357.jpg', '0/23369.jpg', '0/23370.jpg', '0/23381.jpg', '0/23382.jpg', '0/23403.jpg', '0/23404.jpg', '0/23433.jpg', '0/23458.jpg', '0/23468.jpg', '0/23471.jpg', '0/23474.jpg', '0/23476.jpg', '0/23482.jpg', '0/23487.jpg', '0/23488.jpg', '0/23508.jpg', '0/23513.jpg', '0/23530.jpg', '0/23537.jpg', '0/23542.jpg', '0/23556.jpg', '0/23565.jpg', '0/23576.jpg', '0/23624.jpg', '0/23634.jpg', '0/23635.jpg', '0/23652.jpg', '0/23669.jpg', '0/23674.jpg', '0/23675.jpg', '0/23686.jpg', '0/23740.jpg', '0/23754.jpg', '0/23777.jpg', '0/23778.jpg', '0/23780.jpg', '0/23815.jpg', '0/23822.jpg', '0/23823.jpg', '0/23839.jpg', '0/23844.jpg', '0/23846.jpg', '0/23877.jpg', '0/23887.jpg', '0/23897.jpg', '0/23933.jpg', '0/23962.jpg', '0/24060.jpg', '0/24201.jpg', '0/24233.jpg', '0/24242.jpg', '0/24256.jpg', '0/24272.jpg', '0/24277.jpg', '0/24292.jpg', '0/24317.jpg', '0/24320.jpg', '0/24334.jpg', '0/24352.jpg', '0/24373.jpg', '0/24382.jpg', '0/24392.jpg', '0/24403.jpg', '0/24404.jpg', '0/24405.jpg', '0/24452.jpg', '0/24524.jpg', '0/24530.jpg', '0/24535.jpg', '0/24576.jpg', '0/24606.jpg', '0/24608.jpg', '0/24641.jpg', '0/24663.jpg', '0/24674.jpg', '0/24689.jpg', '0/24718.jpg', '0/24739.jpg', '0/24768.jpg', '0/24773.jpg', '0/24774.jpg', '0/24785.jpg', '0/24801.jpg', '0/24807.jpg', '0/24820.jpg', '0/24833.jpg', '0/24888.jpg', '0/24891.jpg', '0/24928.jpg', '0/24933.jpg', '0/24949.jpg', '0/24954.jpg', '0/24988.jpg', '0/25027.jpg', '0/25038.jpg', '0/25086.jpg', '0/25088.jpg', '0/25111.jpg', '0/25139.jpg', '0/25146.jpg', '0/25179.jpg', '0/25183.jpg', '0/25187.jpg', '0/25225.jpg', '0/25254.jpg', '0/25260.jpg', '0/25268.jpg', '0/25287.jpg', '0/25324.jpg', '0/25325.jpg', '0/25328.jpg', '0/25356.jpg', '0/25367.jpg', '0/25405.jpg', '0/25410.jpg', '0/25422.jpg', '0/25435.jpg', '0/25447.jpg', '0/25458.jpg', '0/25486.jpg', '0/25523.jpg', '0/25556.jpg', '0/25625.jpg', '0/25661.jpg', '0/25666.jpg', '0/25668.jpg', '0/25679.jpg', '0/25689.jpg', '0/25692.jpg', '0/25722.jpg', '0/25749.jpg', '0/25755.jpg', '0/25770.jpg', '0/25861.jpg', '0/25874.jpg', '0/25885.jpg', '0/25932.jpg', '0/25993.jpg', '0/26028.jpg']\n"
          ],
          "name": "stdout"
        }
      ]
    },
    {
      "cell_type": "markdown",
      "metadata": {
        "id": "OVTY16yMWe7N",
        "colab_type": "text"
      },
      "source": [
        "## Loading Model"
      ]
    },
    {
      "cell_type": "code",
      "metadata": {
        "id": "sKeNXRDXNNeQ",
        "colab_type": "code",
        "outputId": "96906ba8-bb19-4535-f2f2-a272ce6a5f80",
        "colab": {
          "base_uri": "https://localhost:8080/",
          "height": 156
        }
      },
      "source": [
        "import numpy as np\n",
        "# #load model\n",
        "# with open('/content/drive/My Drive/Projects/Neural_Network_Competition_Project/Data Split/model3_architecture.json', 'r') as f:\n",
        "#     new_model = model_from_json(f.read())\n",
        "\n",
        "# Load weights into the new model\n",
        "\n",
        "#model6: 84.3 Percent Accuracy\n",
        "new_model = keras.models.load_model('/content/drive/My Drive/Projects/Neural_Network_Competition_Project/Data Split/model2.h5')\n",
        "print(\"Model loaded successfully\")\n"
      ],
      "execution_count": 0,
      "outputs": [
        {
          "output_type": "stream",
          "text": [
            "WARNING:tensorflow:From /usr/local/lib/python3.6/dist-packages/tensorflow_core/python/ops/init_ops.py:97: calling GlorotUniform.__init__ (from tensorflow.python.ops.init_ops) with dtype is deprecated and will be removed in a future version.\n",
            "Instructions for updating:\n",
            "Call initializer instance with the dtype argument instead of passing it to the constructor\n",
            "WARNING:tensorflow:From /usr/local/lib/python3.6/dist-packages/tensorflow_core/python/ops/init_ops.py:97: calling Zeros.__init__ (from tensorflow.python.ops.init_ops) with dtype is deprecated and will be removed in a future version.\n",
            "Instructions for updating:\n",
            "Call initializer instance with the dtype argument instead of passing it to the constructor\n",
            "Model loaded successfully\n"
          ],
          "name": "stdout"
        }
      ]
    },
    {
      "cell_type": "markdown",
      "metadata": {
        "id": "075uarL9AB6m",
        "colab_type": "text"
      },
      "source": [
        "## Predict the model and print classes"
      ]
    },
    {
      "cell_type": "code",
      "metadata": {
        "id": "rWxEbSWlNjH6",
        "colab_type": "code",
        "outputId": "f50e51a9-b586-46c5-b85d-048db82ccddb",
        "colab": {
          "base_uri": "https://localhost:8080/",
          "height": 289
        }
      },
      "source": [
        "predictions = new_model.predict_generator(test_generator) \n",
        "print(predictions)    \n",
        "predictions = np.argmax(predictions, axis=-1) #multiple categories\n",
        "label = (test_generator.class_indices)\n",
        "print(predictions)"
      ],
      "execution_count": 0,
      "outputs": [
        {
          "output_type": "stream",
          "text": [
            "[[3.5628499e-04 5.0194591e-02 4.0263144e-04 6.0322829e-02 8.8872373e-01]\n",
            " [9.9982160e-01 3.2893855e-05 1.4339860e-04 2.1436870e-06 3.1352972e-11]\n",
            " [9.9672514e-01 4.5181546e-04 2.8123024e-03 1.0737929e-05 1.5014341e-10]\n",
            " ...\n",
            " [4.5880903e-02 9.4292766e-01 1.1187637e-02 3.8692701e-06 1.0260531e-09]\n",
            " [8.4333444e-01 7.6300912e-02 5.2993656e-03 7.4453712e-02 6.1153312e-04]\n",
            " [9.9992621e-01 1.4605188e-05 5.8096230e-05 1.0316365e-06 9.4332615e-12]]\n",
            "[4 0 0 3 0 1 3 0 2 4 1 0 0 1 0 1 0 1 0 0 0 0 0 0 3 2 0 1 0 0 4 1 0 0 0 3 1\n",
            " 1 0 0 1 1 0 0 1 2 0 0 0 0 2 0 2 1 0 2 0 0 0 0 0 4 0 0 0 3 0 4 0 2 0 2 0 2\n",
            " 0 1 0 3 0 1 1 0 1 0 3 3 4 0 0 1 1 0 2 1 0 0 0 1 1 4 1 0 4 0 0 1 0 0 0 0 3\n",
            " 0 1 0 1 3 0 0 1 0 1 1 0 2 0 1 0 1 0 0 2 0 0 0 0 0 3 0 3 4 1 0 0 3 1 0 3 0\n",
            " 0 0 1 1 1 0 3 0 3 0 1 0 0 0 0 0 1 0 1 3 0 0 1 1 4 1 3 0 0 0 1 0 1 0 1 3 0\n",
            " 0 0 1 1 1 0 0 1 2 0 1 0 0 0 0 0 0 1 2 4 0 0 1 0 1 0 2 1 0 0 3 1 0 1 0 2 3\n",
            " 1 4 1 1 4 0 0 3 0 1 2 1 3 0 1 1 0 0 2 1 1 0 0 0 1 3 3 2 3 1 4 1 1 0 0 0 0\n",
            " 0 1 1 0 0 0 1 2 0 0 0 2 0 0 2 1 3 0 4 1 1 1 0 3 4 1 0 0 0 0 0 3 3 2 0 0 0\n",
            " 0 1 0 0]\n"
          ],
          "name": "stdout"
        }
      ]
    },
    {
      "cell_type": "markdown",
      "metadata": {
        "id": "T_ujBWr2AHUZ",
        "colab_type": "text"
      },
      "source": [
        "## Understanding Class Prediction Labels"
      ]
    },
    {
      "cell_type": "code",
      "metadata": {
        "id": "_LZDY51keYAa",
        "colab_type": "code",
        "outputId": "04e5b69b-b909-410c-a2b4-b57e06615a15",
        "colab": {
          "base_uri": "https://localhost:8080/",
          "height": 156
        }
      },
      "source": [
        "image_prediction_dict = {}\n",
        "for x, y in zip(test_names,predictions):\n",
        "  image_prediction_dict[x] = y\n",
        "  \n",
        "class0 = [k for k,v in image_prediction_dict.items() if v == 0]\n",
        "class1 = [k for k,v in image_prediction_dict.items() if v == 1]\n",
        "class2 = [k for k,v in image_prediction_dict.items() if v == 2]\n",
        "class3 = [k for k,v in image_prediction_dict.items() if v == 3]\n",
        "class4 = [k for k,v in image_prediction_dict.items() if v == 4]\n",
        "print(\"\\nClass 0 images: \", len(class0), \"\\nClass 1 images: \", len(class1), \"\\nClass 2 images: \", len(class2), \"\\nClass 3 images: \" ,len(class3), \"\\nClass 4 images: \", len(class4))\n",
        "print(class4)"
      ],
      "execution_count": 0,
      "outputs": [
        {
          "output_type": "stream",
          "text": [
            "\n",
            "Class 0 images:  153 \n",
            "Class 1 images:  78 \n",
            "Class 2 images:  23 \n",
            "Class 3 images:  30 \n",
            "Class 4 images:  16\n",
            "['21051.jpg', '22482.jpg', '20619.jpg', '25668.jpg', '25447.jpg', '20927.jpg', '24382.jpg', '25367.jpg', '23278.jpg', '22438.jpg', '23576.jpg', '20018.jpg', '23195.jpg', '23304.jpg', '23780.jpg', '24233.jpg']\n"
          ],
          "name": "stdout"
        }
      ]
    },
    {
      "cell_type": "code",
      "metadata": {
        "id": "X-W_1OZRrZZT",
        "colab_type": "code",
        "outputId": "6cc5c479-92e9-45a2-c27d-68c55c072285",
        "colab": {
          "base_uri": "https://localhost:8080/",
          "height": 71
        }
      },
      "source": [
        "class4.sort()\n",
        "print(class4)\n",
        "print(image_prediction_dict['20172.jpg'])"
      ],
      "execution_count": 0,
      "outputs": [
        {
          "output_type": "stream",
          "text": [
            "['20018.jpg', '20619.jpg', '20927.jpg', '21051.jpg', '22438.jpg', '22482.jpg', '23195.jpg', '23278.jpg', '23304.jpg', '23576.jpg', '23780.jpg', '24233.jpg', '24382.jpg', '25367.jpg', '25447.jpg', '25668.jpg']\n",
            "0\n"
          ],
          "name": "stdout"
        }
      ]
    },
    {
      "cell_type": "markdown",
      "metadata": {
        "id": "X0ISFPorAis3",
        "colab_type": "text"
      },
      "source": [
        "## Converting to one hot encoding"
      ]
    },
    {
      "cell_type": "code",
      "metadata": {
        "id": "yHN9kDczvvVI",
        "colab_type": "code",
        "outputId": "1ab8326f-9f1a-46e4-f38b-df7120504929",
        "colab": {
          "base_uri": "https://localhost:8080/",
          "height": 224
        }
      },
      "source": [
        "from numpy import array\n",
        "from numpy import argmax\n",
        "from keras.utils import to_categorical\n",
        "# define example\n",
        "data = predictions\n",
        "data = array(data)\n",
        "print(data)\n",
        "# one hot encode\n",
        "encoded = to_categorical(data)\n",
        "int_convert = []\n",
        "for x in encoded:\n",
        "  int_convert.append([int(k) for k in x])\n",
        "print(int_convert)\n",
        "\n",
        "import csv\n",
        "csvfile = open('/content/drive/My Drive/Projects/Neural_Network_Competition_Project/Data Split/predictions.csv','w', newline='')\n",
        "obj1 = csv.writer(csvfile)\n",
        "obj1.writerows(int_convert)\n",
        "csvfile.close()\n",
        "print(\"File Created\")"
      ],
      "execution_count": 0,
      "outputs": [
        {
          "output_type": "stream",
          "text": [
            "[4 0 0 3 0 1 3 0 2 4 1 0 0 1 0 1 0 1 0 0 0 0 0 0 3 2 0 1 0 0 4 1 0 0 0 3 1\n",
            " 1 0 0 1 1 0 0 1 2 0 0 0 0 2 0 2 1 0 2 0 0 0 0 0 4 0 0 0 3 0 4 0 2 0 2 0 2\n",
            " 0 1 0 3 0 1 1 0 1 0 3 3 4 0 0 1 1 0 2 1 0 0 0 1 1 4 1 0 4 0 0 1 0 0 0 0 3\n",
            " 0 1 0 1 3 0 0 1 0 1 1 0 2 0 1 0 1 0 0 2 0 0 0 0 0 3 0 3 4 1 0 0 3 1 0 3 0\n",
            " 0 0 1 1 1 0 3 0 3 0 1 0 0 0 0 0 1 0 1 3 0 0 1 1 4 1 3 0 0 0 1 0 1 0 1 3 0\n",
            " 0 0 1 1 1 0 0 1 2 0 1 0 0 0 0 0 0 1 2 4 0 0 1 0 1 0 2 1 0 0 3 1 0 1 0 2 3\n",
            " 1 4 1 1 4 0 0 3 0 1 2 1 3 0 1 1 0 0 2 1 1 0 0 0 1 3 3 2 3 1 4 1 1 0 0 0 0\n",
            " 0 1 1 0 0 0 1 2 0 0 0 2 0 0 2 1 3 0 4 1 1 1 0 3 4 1 0 0 0 0 0 3 3 2 0 0 0\n",
            " 0 1 0 0]\n",
            "[[0, 0, 0, 0, 1], [1, 0, 0, 0, 0], [1, 0, 0, 0, 0], [0, 0, 0, 1, 0], [1, 0, 0, 0, 0], [0, 1, 0, 0, 0], [0, 0, 0, 1, 0], [1, 0, 0, 0, 0], [0, 0, 1, 0, 0], [0, 0, 0, 0, 1], [0, 1, 0, 0, 0], [1, 0, 0, 0, 0], [1, 0, 0, 0, 0], [0, 1, 0, 0, 0], [1, 0, 0, 0, 0], [0, 1, 0, 0, 0], [1, 0, 0, 0, 0], [0, 1, 0, 0, 0], [1, 0, 0, 0, 0], [1, 0, 0, 0, 0], [1, 0, 0, 0, 0], [1, 0, 0, 0, 0], [1, 0, 0, 0, 0], [1, 0, 0, 0, 0], [0, 0, 0, 1, 0], [0, 0, 1, 0, 0], [1, 0, 0, 0, 0], [0, 1, 0, 0, 0], [1, 0, 0, 0, 0], [1, 0, 0, 0, 0], [0, 0, 0, 0, 1], [0, 1, 0, 0, 0], [1, 0, 0, 0, 0], [1, 0, 0, 0, 0], [1, 0, 0, 0, 0], [0, 0, 0, 1, 0], [0, 1, 0, 0, 0], [0, 1, 0, 0, 0], [1, 0, 0, 0, 0], [1, 0, 0, 0, 0], [0, 1, 0, 0, 0], [0, 1, 0, 0, 0], [1, 0, 0, 0, 0], [1, 0, 0, 0, 0], [0, 1, 0, 0, 0], [0, 0, 1, 0, 0], [1, 0, 0, 0, 0], [1, 0, 0, 0, 0], [1, 0, 0, 0, 0], [1, 0, 0, 0, 0], [0, 0, 1, 0, 0], [1, 0, 0, 0, 0], [0, 0, 1, 0, 0], [0, 1, 0, 0, 0], [1, 0, 0, 0, 0], [0, 0, 1, 0, 0], [1, 0, 0, 0, 0], [1, 0, 0, 0, 0], [1, 0, 0, 0, 0], [1, 0, 0, 0, 0], [1, 0, 0, 0, 0], [0, 0, 0, 0, 1], [1, 0, 0, 0, 0], [1, 0, 0, 0, 0], [1, 0, 0, 0, 0], [0, 0, 0, 1, 0], [1, 0, 0, 0, 0], [0, 0, 0, 0, 1], [1, 0, 0, 0, 0], [0, 0, 1, 0, 0], [1, 0, 0, 0, 0], [0, 0, 1, 0, 0], [1, 0, 0, 0, 0], [0, 0, 1, 0, 0], [1, 0, 0, 0, 0], [0, 1, 0, 0, 0], [1, 0, 0, 0, 0], [0, 0, 0, 1, 0], [1, 0, 0, 0, 0], [0, 1, 0, 0, 0], [0, 1, 0, 0, 0], [1, 0, 0, 0, 0], [0, 1, 0, 0, 0], [1, 0, 0, 0, 0], [0, 0, 0, 1, 0], [0, 0, 0, 1, 0], [0, 0, 0, 0, 1], [1, 0, 0, 0, 0], [1, 0, 0, 0, 0], [0, 1, 0, 0, 0], [0, 1, 0, 0, 0], [1, 0, 0, 0, 0], [0, 0, 1, 0, 0], [0, 1, 0, 0, 0], [1, 0, 0, 0, 0], [1, 0, 0, 0, 0], [1, 0, 0, 0, 0], [0, 1, 0, 0, 0], [0, 1, 0, 0, 0], [0, 0, 0, 0, 1], [0, 1, 0, 0, 0], [1, 0, 0, 0, 0], [0, 0, 0, 0, 1], [1, 0, 0, 0, 0], [1, 0, 0, 0, 0], [0, 1, 0, 0, 0], [1, 0, 0, 0, 0], [1, 0, 0, 0, 0], [1, 0, 0, 0, 0], [1, 0, 0, 0, 0], [0, 0, 0, 1, 0], [1, 0, 0, 0, 0], [0, 1, 0, 0, 0], [1, 0, 0, 0, 0], [0, 1, 0, 0, 0], [0, 0, 0, 1, 0], [1, 0, 0, 0, 0], [1, 0, 0, 0, 0], [0, 1, 0, 0, 0], [1, 0, 0, 0, 0], [0, 1, 0, 0, 0], [0, 1, 0, 0, 0], [1, 0, 0, 0, 0], [0, 0, 1, 0, 0], [1, 0, 0, 0, 0], [0, 1, 0, 0, 0], [1, 0, 0, 0, 0], [0, 1, 0, 0, 0], [1, 0, 0, 0, 0], [1, 0, 0, 0, 0], [0, 0, 1, 0, 0], [1, 0, 0, 0, 0], [1, 0, 0, 0, 0], [1, 0, 0, 0, 0], [1, 0, 0, 0, 0], [1, 0, 0, 0, 0], [0, 0, 0, 1, 0], [1, 0, 0, 0, 0], [0, 0, 0, 1, 0], [0, 0, 0, 0, 1], [0, 1, 0, 0, 0], [1, 0, 0, 0, 0], [1, 0, 0, 0, 0], [0, 0, 0, 1, 0], [0, 1, 0, 0, 0], [1, 0, 0, 0, 0], [0, 0, 0, 1, 0], [1, 0, 0, 0, 0], [1, 0, 0, 0, 0], [1, 0, 0, 0, 0], [0, 1, 0, 0, 0], [0, 1, 0, 0, 0], [0, 1, 0, 0, 0], [1, 0, 0, 0, 0], [0, 0, 0, 1, 0], [1, 0, 0, 0, 0], [0, 0, 0, 1, 0], [1, 0, 0, 0, 0], [0, 1, 0, 0, 0], [1, 0, 0, 0, 0], [1, 0, 0, 0, 0], [1, 0, 0, 0, 0], [1, 0, 0, 0, 0], [1, 0, 0, 0, 0], [0, 1, 0, 0, 0], [1, 0, 0, 0, 0], [0, 1, 0, 0, 0], [0, 0, 0, 1, 0], [1, 0, 0, 0, 0], [1, 0, 0, 0, 0], [0, 1, 0, 0, 0], [0, 1, 0, 0, 0], [0, 0, 0, 0, 1], [0, 1, 0, 0, 0], [0, 0, 0, 1, 0], [1, 0, 0, 0, 0], [1, 0, 0, 0, 0], [1, 0, 0, 0, 0], [0, 1, 0, 0, 0], [1, 0, 0, 0, 0], [0, 1, 0, 0, 0], [1, 0, 0, 0, 0], [0, 1, 0, 0, 0], [0, 0, 0, 1, 0], [1, 0, 0, 0, 0], [1, 0, 0, 0, 0], [1, 0, 0, 0, 0], [0, 1, 0, 0, 0], [0, 1, 0, 0, 0], [0, 1, 0, 0, 0], [1, 0, 0, 0, 0], [1, 0, 0, 0, 0], [0, 1, 0, 0, 0], [0, 0, 1, 0, 0], [1, 0, 0, 0, 0], [0, 1, 0, 0, 0], [1, 0, 0, 0, 0], [1, 0, 0, 0, 0], [1, 0, 0, 0, 0], [1, 0, 0, 0, 0], [1, 0, 0, 0, 0], [1, 0, 0, 0, 0], [0, 1, 0, 0, 0], [0, 0, 1, 0, 0], [0, 0, 0, 0, 1], [1, 0, 0, 0, 0], [1, 0, 0, 0, 0], [0, 1, 0, 0, 0], [1, 0, 0, 0, 0], [0, 1, 0, 0, 0], [1, 0, 0, 0, 0], [0, 0, 1, 0, 0], [0, 1, 0, 0, 0], [1, 0, 0, 0, 0], [1, 0, 0, 0, 0], [0, 0, 0, 1, 0], [0, 1, 0, 0, 0], [1, 0, 0, 0, 0], [0, 1, 0, 0, 0], [1, 0, 0, 0, 0], [0, 0, 1, 0, 0], [0, 0, 0, 1, 0], [0, 1, 0, 0, 0], [0, 0, 0, 0, 1], [0, 1, 0, 0, 0], [0, 1, 0, 0, 0], [0, 0, 0, 0, 1], [1, 0, 0, 0, 0], [1, 0, 0, 0, 0], [0, 0, 0, 1, 0], [1, 0, 0, 0, 0], [0, 1, 0, 0, 0], [0, 0, 1, 0, 0], [0, 1, 0, 0, 0], [0, 0, 0, 1, 0], [1, 0, 0, 0, 0], [0, 1, 0, 0, 0], [0, 1, 0, 0, 0], [1, 0, 0, 0, 0], [1, 0, 0, 0, 0], [0, 0, 1, 0, 0], [0, 1, 0, 0, 0], [0, 1, 0, 0, 0], [1, 0, 0, 0, 0], [1, 0, 0, 0, 0], [1, 0, 0, 0, 0], [0, 1, 0, 0, 0], [0, 0, 0, 1, 0], [0, 0, 0, 1, 0], [0, 0, 1, 0, 0], [0, 0, 0, 1, 0], [0, 1, 0, 0, 0], [0, 0, 0, 0, 1], [0, 1, 0, 0, 0], [0, 1, 0, 0, 0], [1, 0, 0, 0, 0], [1, 0, 0, 0, 0], [1, 0, 0, 0, 0], [1, 0, 0, 0, 0], [1, 0, 0, 0, 0], [0, 1, 0, 0, 0], [0, 1, 0, 0, 0], [1, 0, 0, 0, 0], [1, 0, 0, 0, 0], [1, 0, 0, 0, 0], [0, 1, 0, 0, 0], [0, 0, 1, 0, 0], [1, 0, 0, 0, 0], [1, 0, 0, 0, 0], [1, 0, 0, 0, 0], [0, 0, 1, 0, 0], [1, 0, 0, 0, 0], [1, 0, 0, 0, 0], [0, 0, 1, 0, 0], [0, 1, 0, 0, 0], [0, 0, 0, 1, 0], [1, 0, 0, 0, 0], [0, 0, 0, 0, 1], [0, 1, 0, 0, 0], [0, 1, 0, 0, 0], [0, 1, 0, 0, 0], [1, 0, 0, 0, 0], [0, 0, 0, 1, 0], [0, 0, 0, 0, 1], [0, 1, 0, 0, 0], [1, 0, 0, 0, 0], [1, 0, 0, 0, 0], [1, 0, 0, 0, 0], [1, 0, 0, 0, 0], [1, 0, 0, 0, 0], [0, 0, 0, 1, 0], [0, 0, 0, 1, 0], [0, 0, 1, 0, 0], [1, 0, 0, 0, 0], [1, 0, 0, 0, 0], [1, 0, 0, 0, 0], [1, 0, 0, 0, 0], [0, 1, 0, 0, 0], [1, 0, 0, 0, 0], [1, 0, 0, 0, 0]]\n",
            "File Created\n"
          ],
          "name": "stdout"
        }
      ]
    },
    {
      "cell_type": "markdown",
      "metadata": {
        "id": "cT8refI5VyJ6",
        "colab_type": "text"
      },
      "source": [
        "## Predicting with a different model"
      ]
    },
    {
      "cell_type": "code",
      "metadata": {
        "id": "fR_54V-6V_QT",
        "colab_type": "code",
        "outputId": "d0ae6912-bf5b-47db-b891-6e185bdfaa95",
        "colab": {
          "base_uri": "https://localhost:8080/",
          "height": 479
        }
      },
      "source": [
        "from tensorflow.keras.preprocessing.image import ImageDataGenerator\n",
        "test_datagen = ImageDataGenerator(rescale=1./255)\n",
        "\n",
        "test_generator = test_datagen.flow_from_directory(\n",
        "        directory = r\"/content/drive/My Drive/Projects/Neural_Network_Competition_Project/Data Split/ValData\",\n",
        "        target_size=(640, 480),\n",
        "        color_mode=\"rgb\",\n",
        "        shuffle = False,\n",
        "        class_mode='sparse',\n",
        "        batch_size=1)\n",
        "\n",
        "filenames = test_generator.filenames\n",
        "print(filenames)\n",
        "new_model = keras.models.load_model('/content/drive/My Drive/Projects/Neural_Network_Competition_Project/Data Split/model2.h5')\n",
        "print(\"Model loaded successfully\")\n",
        "\n",
        "predictions = new_model.predict_generator(test_generator) \n",
        "print(predictions)    \n",
        "predictions = np.argmax(predictions, axis=-1) #multiple categories\n",
        "\n",
        "print(predictions)"
      ],
      "execution_count": 0,
      "outputs": [
        {
          "output_type": "stream",
          "text": [
            "Found 256 images belonging to 5 classes.\n",
            "['0/000032.jpg', '0/000333.jpg', '0/000675.jpg', '0/000917.jpg', '0/000981.jpg', '0/001150.jpg', '0/001326.jpg', '0/001518.jpg', '0/001692.jpg', '0/001775.jpg', '0/001864.jpg', '0/002318.jpg', '0/002441.jpg', '0/002764.jpg', '0/002914.jpg', '0/003036.jpg', '0/003149.jpg', '0/003315.jpg', '0/003568.jpg', '0/003741.jpg', '0/003888.jpg', '0/004039.jpg', '0/004288.jpg', '0/004446.jpg', '0/004676.jpg', '0/004863.jpg', '0/005025.jpg', '0/005272.jpg', '0/005517.jpg', '0/005651.jpg', '0/005822.jpg', '0/005904.jpg', '0/006001.jpg', '0/006213.jpg', '0/006316.jpg', '0/006550.jpg', '0/006885.jpg', '0/007023.jpg', '0/007273.jpg', '0/007498.jpg', '0/007654.jpg', '0/007705.jpg', '0/007888.jpg', '0/008089.jpg', '0/008287.jpg', '0/008505.jpg', '0/008612.jpg', '0/008673.jpg', '0/008705.jpg', '0/008882.jpg', '0/008990.jpg', '0/009110.jpg', '0/009296.jpg', '0/009445.jpg', '0/009741.jpg', '0/009848.jpg', '0/009963.jpg', '0/010100.jpg', '0/010312.jpg', '0/010549.jpg', '0/010571.jpg', '0/010701.jpg', '0/010739.jpg', '0/010806.jpg', '0/010966.jpg', '0/011029.jpg', '0/011161.jpg', '0/011276.jpg', '0/011674.jpg', '0/011816.jpg', '0/011951.jpg', '0/012148.jpg', '0/012266.jpg', '0/012397.jpg', '0/012432.jpg', '0/012475.jpg', '0/012544.jpg', '0/012798.jpg', '0/012923.jpg', '0/013153.jpg', '0/013241.jpg', '0/013436.jpg', '0/013632.jpg', '0/013818.jpg', '0/013979.jpg', '0/014183.jpg', '0/014379.jpg', '0/014488.jpg', '0/014637.jpg', '0/014718.jpg', '0/014966.jpg', '0/015229.jpg', '0/015317.jpg', '0/015412.jpg', '0/015548.jpg', '0/015772.jpg', '0/015813.jpg', '0/015971.jpg', '0/016127.jpg', '0/016247.jpg', '0/016336.jpg', '0/016505.jpg', '0/016707.jpg', '0/016800.jpg', '0/016870.jpg', '0/017095.jpg', '0/017234.jpg', '0/017386.jpg', '0/017666.jpg', '0/017723.jpg', '0/017892.jpg', '0/017937.jpg', '0/017994.jpg', '0/018095.jpg', '0/018221.jpg', '0/018294.jpg', '0/018449.jpg', '0/018689.jpg', '0/018825.jpg', '0/018945.jpg', '0/018988.jpg', '0/019115.jpg', '1/000561.jpg', '1/001133.jpg', '1/001516.jpg', '1/001823.jpg', '1/002426.jpg', '1/002691.jpg', '1/003090.jpg', '1/003496.jpg', '1/003761.jpg', '1/003971.jpg', '1/004190.jpg', '1/004444.jpg', '1/005162.jpg', '1/005464.jpg', '1/005789.jpg', '1/006253.jpg', '1/006475.jpg', '1/006880.jpg', '1/007067.jpg', '1/007299.jpg', '1/007815.jpg', '1/008313.jpg', '1/008551.jpg', '1/008743.jpg', '1/008962.jpg', '1/009496.jpg', '1/010114.jpg', '1/010449.jpg', '1/011305.jpg', '1/011630.jpg', '1/012068.jpg', '1/012331.jpg', '1/012810.jpg', '1/013507.jpg', '1/013901.jpg', '1/014603.jpg', '1/015363.jpg', '1/015726.jpg', '1/016191.jpg', '1/017018.jpg', '1/017783.jpg', '1/017941.jpg', '1/018502.jpg', '1/018587.jpg', '1/018956.jpg', '1/019110.jpg', '2/000339.jpg', '2/000780.jpg', '2/002115.jpg', '2/003144.jpg', '2/003958.jpg', '2/004609.jpg', '2/005414.jpg', '2/006029.jpg', '2/006290.jpg', '2/007384.jpg', '2/007735.jpg', '2/007963.jpg', '2/008483.jpg', '2/008793.jpg', '2/008955.jpg', '2/009312.jpg', '2/010103.jpg', '2/010744.jpg', '2/011477.jpg', '2/011755.jpg', '2/012677.jpg', '2/013348.jpg', '2/013803.jpg', '2/014126.jpg', '2/014285.jpg', '2/015480.jpg', '2/016015.jpg', '2/016267.jpg', '2/016923.jpg', '2/017385.jpg', '2/018274.jpg', '2/019068.jpg', '3/000479.jpg', '3/000810.jpg', '3/001217.jpg', '3/001660.jpg', '3/002336.jpg', '3/003448.jpg', '3/004343.jpg', '3/004653.jpg', '3/005038.jpg', '3/005424.jpg', '3/005726.jpg', '3/006528.jpg', '3/006764.jpg', '3/007101.jpg', '3/008187.jpg', '3/008923.jpg', '3/009900.jpg', '3/011495.jpg', '3/012099.jpg', '3/012515.jpg', '3/012713.jpg', '3/013304.jpg', '3/013543.jpg', '3/014138.jpg', '3/014813.jpg', '3/015267.jpg', '3/015637.jpg', '3/015952.jpg', '3/016258.jpg', '3/017199.jpg', '3/017955.jpg', '3/018583.jpg', '3/019064.jpg', '4/000478.jpg', '4/001506.jpg', '4/002157.jpg', '4/003104.jpg', '4/003957.jpg', '4/004898.jpg', '4/005446.jpg', '4/005882.jpg', '4/006322.jpg', '4/007921.jpg', '4/008558.jpg', '4/009258.jpg', '4/010462.jpg', '4/012098.jpg', '4/013563.jpg', '4/013931.jpg', '4/014238.jpg', '4/014723.jpg', '4/015425.jpg', '4/015751.jpg', '4/017631.jpg', '4/018807.jpg', '4/019121.jpg']\n",
            "WARNING:tensorflow:From /usr/local/lib/python3.6/dist-packages/tensorflow_core/python/ops/init_ops.py:97: calling GlorotUniform.__init__ (from tensorflow.python.ops.init_ops) with dtype is deprecated and will be removed in a future version.\n",
            "Instructions for updating:\n",
            "Call initializer instance with the dtype argument instead of passing it to the constructor\n",
            "WARNING:tensorflow:From /usr/local/lib/python3.6/dist-packages/tensorflow_core/python/ops/init_ops.py:97: calling Zeros.__init__ (from tensorflow.python.ops.init_ops) with dtype is deprecated and will be removed in a future version.\n",
            "Instructions for updating:\n",
            "Call initializer instance with the dtype argument instead of passing it to the constructor\n",
            "WARNING:tensorflow:From /usr/local/lib/python3.6/dist-packages/tensorflow_core/python/ops/resource_variable_ops.py:1630: calling BaseResourceVariable.__init__ (from tensorflow.python.ops.resource_variable_ops) with constraint is deprecated and will be removed in a future version.\n",
            "Instructions for updating:\n",
            "If using Keras pass *_constraint arguments to layers.\n",
            "Model loaded successfully\n",
            "[[9.9873561e-01 1.2589857e-03 4.8978054e-06 4.9856135e-07 1.0080969e-10]\n",
            " [8.4183693e-01 1.2208517e-01 3.6038358e-02 3.9503240e-05 3.0931484e-09]\n",
            " [9.9999523e-01 2.2637141e-06 2.4578501e-06 1.9765687e-09 9.2356153e-15]\n",
            " ...\n",
            " [6.9811044e-08 6.5451645e-06 3.6706812e-08 3.7219128e-04 9.9962115e-01]\n",
            " [2.9952172e-09 3.3266801e-08 8.7939770e-07 9.8001903e-01 1.9980015e-02]\n",
            " [1.1887558e-08 2.4694907e-06 2.2284867e-07 4.9227541e-03 9.9507457e-01]]\n",
            "[0 0 0 0 3 0 0 0 0 0 0 2 2 1 0 0 0 0 0 0 0 1 0 0 0 0 0 0 1 0 0 0 0 0 0 0 0\n",
            " 0 0 0 1 0 0 0 0 0 0 0 0 0 0 0 0 1 0 0 2 0 0 0 0 0 0 0 0 0 0 0 0 0 0 0 0 0\n",
            " 0 0 0 0 0 0 0 0 1 0 0 0 0 0 0 0 1 0 0 0 1 1 0 0 0 2 0 1 0 0 0 0 1 0 0 0 0\n",
            " 0 0 0 0 0 0 0 0 0 1 0 1 0 1 1 1 1 0 0 1 0 1 1 1 1 1 0 1 1 1 1 1 0 0 1 0 1\n",
            " 1 1 1 2 1 1 2 0 0 1 1 1 0 1 1 1 1 1 1 0 3 0 3 2 2 1 0 2 2 1 2 2 0 2 2 2 2\n",
            " 3 2 2 1 3 0 1 2 1 2 3 2 2 3 2 2 3 3 3 3 3 3 3 3 2 3 3 3 3 3 3 3 2 3 3 3 3\n",
            " 3 3 3 3 3 3 4 3 3 3 3 4 3 4 4 4 4 4 4 4 4 4 3 4 4 4 4 4 4 4 4 4 3 4]\n"
          ],
          "name": "stdout"
        }
      ]
    },
    {
      "cell_type": "code",
      "metadata": {
        "id": "j_mrh5k-Cj_W",
        "colab_type": "code",
        "outputId": "ccee1204-1774-43c3-a00f-c597efded97d",
        "colab": {
          "base_uri": "https://localhost:8080/",
          "height": 573
        }
      },
      "source": [
        "# summarize history for accuracy\n",
        "plt.plot(history.history['acc'])\n",
        "plt.plot(history.history['val_acc'])\n",
        "plt.title('model accuracy')\n",
        "plt.ylabel('accuracy')\n",
        "plt.xlabel('epoch')\n",
        "plt.legend(['train', 'val'], loc='upper left')\n",
        "plt.savefig(\"Accuracy_curves.png\")\n",
        "plt.show()\n",
        "\n",
        "# summarize history for loss\n",
        "plt.plot(history.history['loss'])\n",
        "plt.plot(history.history['val_loss'])\n",
        "plt.title('model loss')\n",
        "plt.ylabel('loss')\n",
        "plt.xlabel('epoch')\n",
        "plt.legend(['train', 'val'], loc='upper left')\n",
        "plt.savefig(\"Loss_curves.png\")\n",
        "plt.show()"
      ],
      "execution_count": 0,
      "outputs": [
        {
          "output_type": "display_data",
          "data": {
            "image/png": "[encoded data removed]",
            "text/plain": [
              "<Figure size 432x288 with 1 Axes>"
            ]
          },
          "metadata": {
            "tags": []
          }
        },
        {
          "output_type": "display_data",
          "data": {
            "image/png": "[encoded data removed]",
            "text/plain": [
              "<Figure size 432x288 with 1 Axes>"
            ]
          },
          "metadata": {
            "tags": []
          }
        }
      ]
    },
    {
      "cell_type": "markdown",
      "metadata": {
        "id": "MhUFyhsWCEQn",
        "colab_type": "text"
      },
      "source": [
        "## Creating graphs for Ground Truth vs Prediction"
      ]
    },
    {
      "cell_type": "code",
      "metadata": {
        "id": "rbzfvj5uYGOJ",
        "colab_type": "code",
        "outputId": "35909da1-dcc5-4731-c387-6a6047d87fb4",
        "colab": {
          "base_uri": "https://localhost:8080/",
          "height": 34
        }
      },
      "source": [
        "#No of files and classes\n",
        "x = []\n",
        "#class 0 = 122\n",
        "for i in range(0,122):\n",
        "  x.append(0)\n",
        "#class 1 = 46\n",
        "for i in range(0,46):\n",
        "  x.append(1)\n",
        "#class 2 = 32\n",
        "for i in range(0,32):\n",
        "  x.append(2)\n",
        "#class 3 = 33\n",
        "for i in range(0,33):\n",
        "  x.append(3)\n",
        "#class 4 = 23\n",
        "for i in range(0,23):\n",
        "  x.append(4)\n",
        "print(len(x))\n",
        "labels = x"
      ],
      "execution_count": 0,
      "outputs": [
        {
          "output_type": "stream",
          "text": [
            "256\n"
          ],
          "name": "stdout"
        }
      ]
    },
    {
      "cell_type": "code",
      "metadata": {
        "id": "Vs8H9j3RT-Ix",
        "colab_type": "code",
        "outputId": "fadbc521-f52d-419a-f9f0-d2a1b57ac432",
        "colab": {
          "base_uri": "https://localhost:8080/",
          "height": 391
        }
      },
      "source": [
        "x = []\n",
        "for i in range(0,256):\n",
        "  x.append(i)\n",
        "import matplotlib.pyplot as plt\n",
        "\n",
        "fig, ax = plt.subplots()\n",
        "fig.set_size_inches(14,6)\n",
        "ax.scatter(x, predictions, color='blue', edgecolors='none', label = 'predicted')\n",
        "ax.scatter(x, labels, color='red', alpha = 0.4,edgecolors='none', label = 'ground truth')\n",
        "\n",
        "ax.legend()\n",
        "ax.grid(True)\n",
        "plt.savefig('/content/drive/My Drive/Projects/Neural_Network_Competition_Project/Data Split/prediction_vs_groundtruth.jpg')\n",
        "plt.show()\n",
        "\n",
        "names = ['jjjagtap', 'ptiwari' , 'akwatra']\n",
        "import csv\n",
        "csvfile = open('/content/drive/My Drive/Projects/Neural_Network_Competition_Project/Data Split/names.csv','w', newline='')\n",
        "obj1 = csv.writer(csvfile)\n",
        "obj1.writerows(names)\n",
        "csvfile.close()\n",
        "print('File written')"
      ],
      "execution_count": 0,
      "outputs": [
        {
          "output_type": "display_data",
          "data": {
            "image/png": "[encoded data removed]",
            "text/plain": [
              "<Figure size 1008x432 with 1 Axes>"
            ]
          },
          "metadata": {
            "tags": []
          }
        },
        {
          "output_type": "stream",
          "text": [
            "File written\n"
          ],
          "name": "stdout"
        }
      ]
    }
  ]
}