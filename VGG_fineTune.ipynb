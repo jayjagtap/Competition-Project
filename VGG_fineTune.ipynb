{
  "nbformat": 4,
  "nbformat_minor": 0,
  "metadata": {
    "colab": {
      "name": "VGG_fineTune",
      "provenance": [],
      "collapsed_sections": []
    },
    "kernelspec": {
      "name": "python3",
      "display_name": "Python 3"
    },
    "accelerator": "GPU"
  },
  "cells": [
    {
      "cell_type": "code",
      "metadata": {
        "id": "4m7wrArX1q_H",
        "colab_type": "code",
        "colab": {
          "base_uri": "https://localhost:8080/",
          "height": 122
        },
        "outputId": "44e0abe1-ce70-4975-edcf-4c34277bbd13"
      },
      "source": [
        "from google.colab import drive\n",
        "drive.mount('/content/drive')"
      ],
      "execution_count": null,
      "outputs": [
        {
          "output_type": "stream",
          "text": [
            "Go to this URL in a browser: https://accounts.google.com/o/oauth2/auth?client_id=947318989803-6bn6qk8qdgf4n4g3pfee6491hc0brc4i.apps.googleusercontent.com&redirect_uri=urn%3aietf%3awg%3aoauth%3a2.0%3aoob&response_type=code&scope=email%20https%3a%2f%2fwww.googleapis.com%2fauth%2fdocs.test%20https%3a%2f%2fwww.googleapis.com%2fauth%2fdrive%20https%3a%2f%2fwww.googleapis.com%2fauth%2fdrive.photos.readonly%20https%3a%2f%2fwww.googleapis.com%2fauth%2fpeopleapi.readonly\n",
            "\n",
            "Enter your authorization code:\n",
            "··········\n",
            "Mounted at /content/drive\n"
          ],
          "name": "stdout"
        }
      ]
    },
    {
      "cell_type": "code",
      "metadata": {
        "id": "loibiqBKQjpp",
        "colab_type": "code",
        "colab": {
          "base_uri": "https://localhost:8080/",
          "height": 34
        },
        "outputId": "5be2bbee-7bdc-4360-86a1-dc71b805e6f2"
      },
      "source": [
        "import pandas as pd\n",
        "import numpy as np\n",
        "import os\n",
        "import keras\n",
        "import matplotlib.pyplot as plt\n",
        "from keras.layers import Dense,GlobalAveragePooling2D, Activation, Dropout\n",
        "from keras.applications import MobileNet\n",
        "from keras.preprocessing import image\n",
        "from keras.applications.mobilenet import preprocess_input\n",
        "from keras.preprocessing.image import ImageDataGenerator\n",
        "from keras.models import Model\n",
        "from keras.optimizers import Adam, SGD\n"
      ],
      "execution_count": null,
      "outputs": [
        {
          "output_type": "stream",
          "text": [
            "Using TensorFlow backend.\n"
          ],
          "name": "stderr"
        }
      ]
    },
    {
      "cell_type": "code",
      "metadata": {
        "id": "TDyxwMDO18Nx",
        "colab_type": "code",
        "colab": {}
      },
      "source": [
        "import pandas as pd"
      ],
      "execution_count": null,
      "outputs": []
    },
    {
      "cell_type": "code",
      "metadata": {
        "id": "EYKQj9ZDHhEA",
        "colab_type": "code",
        "colab": {
          "base_uri": "https://localhost:8080/",
          "height": 119
        },
        "outputId": "0da3658f-48bf-4af2-9827-e21ee54b3c5a"
      },
      "source": [
        "df = pd.read_csv('/content/drive/My Drive/Projects/Neural_Network_Competition_Project/Phase_2/TrainData/TrainAnnotations.csv', dtype = 'str')\n",
        "df['annotation'].value_counts()"
      ],
      "execution_count": null,
      "outputs": [
        {
          "output_type": "execute_result",
          "data": {
            "text/plain": [
              "0    488\n",
              "1    329\n",
              "4    197\n",
              "3    131\n",
              "2    130\n",
              "Name: annotation, dtype: int64"
            ]
          },
          "metadata": {
            "tags": []
          },
          "execution_count": 5
        }
      ]
    },
    {
      "cell_type": "code",
      "metadata": {
        "id": "AA3CKmfETRgJ",
        "colab_type": "code",
        "colab": {}
      },
      "source": [
        "batch_size = 16"
      ],
      "execution_count": null,
      "outputs": []
    },
    {
      "cell_type": "code",
      "metadata": {
        "id": "MBoBOZb5KzV4",
        "colab_type": "code",
        "colab": {
          "base_uri": "https://localhost:8080/",
          "height": 51
        },
        "outputId": "d0ca35d3-75a1-4a66-88e1-192508361325"
      },
      "source": [
        "from tensorflow.keras.preprocessing.image import ImageDataGenerator\n",
        "\n",
        "train_datagen = ImageDataGenerator(rescale = 1./255.,\n",
        "                                   rotation_range = 20,\n",
        "                                   width_shift_range = 0.2,\n",
        "                                   height_shift_range = 0.2,\n",
        "                                   shear_range = 0.1,\n",
        "                                   zoom_range = 0.2,\n",
        "                                   horizontal_flip = True,\n",
        "                                   fill_mode = 'nearest')\n",
        "\n",
        "# Note that the validation data should not be augmented!\n",
        "test_datagen = ImageDataGenerator( rescale = 1.0/255. )\n",
        "\n",
        "# Flow training images in batches of 20 using train_datagen generator\n",
        "train_generator = train_datagen.flow_from_directory(directory =  '/content/drive/My Drive/Projects/Neural_Network_Competition_Project/Phase_2/Train',\n",
        "                                                    batch_size = batch_size,\n",
        "                                                    class_mode = 'categorical', \n",
        "                                                    target_size = (224, 224))     \n",
        "\n",
        "# Flow validation images in batches of 20 using test_datagen generator\n",
        "validation_generator =  test_datagen.flow_from_directory( directory = '/content/drive/My Drive/Projects/Neural_Network_Competition_Project/Phase_2/Validation',\n",
        "                                                          batch_size  = batch_size,\n",
        "                                                          class_mode  = 'categorical', \n",
        "                                                          target_size = (224, 224))"
      ],
      "execution_count": null,
      "outputs": [
        {
          "output_type": "stream",
          "text": [
            "Found 911 images belonging to 5 classes.\n",
            "Found 292 images belonging to 5 classes.\n"
          ],
          "name": "stdout"
        }
      ]
    },
    {
      "cell_type": "code",
      "metadata": {
        "id": "OzjaE7zF_C2F",
        "colab_type": "code",
        "colab": {}
      },
      "source": [
        "# df = pd.read_csv('/content/drive/My Drive/Projects/Neural_Network_Competition_Project/Phase_2/TrainAnnotationsWithAugmentation.csv', dtype = 'str')\n",
        "# for i,row in df.iterrows():\n",
        "#     if row[\"file_name\"].split(\".\")[-1] != \"jpg\":\n",
        "#         row[\"file_name\"] += \".jpg\"\n",
        "# df.head()"
      ],
      "execution_count": null,
      "outputs": []
    },
    {
      "cell_type": "code",
      "metadata": {
        "id": "uCiM3nd_ANH9",
        "colab_type": "code",
        "colab": {}
      },
      "source": [
        "# df[\"annotation\"].value_counts()"
      ],
      "execution_count": null,
      "outputs": []
    },
    {
      "cell_type": "code",
      "metadata": {
        "id": "HxnUDgyV-1qB",
        "colab_type": "code",
        "colab": {}
      },
      "source": [
        "# ##Flow from Data Frame and Augmented Data Folder\n",
        "\n",
        "# datagen=ImageDataGenerator(rescale=1./255.,validation_split=0.20)\n",
        "# train_generator=datagen.flow_from_dataframe(\n",
        "#             dataframe= df,\n",
        "#             directory=\"/content/drive/My Drive/Projects/Neural_Network_Competition_Project/Phase_2/TrainDataWithAugmentation/\",\n",
        "#             x_col=\"file_name\",\n",
        "#             y_col=\"annotation\",\n",
        "#             subset=\"training\",\n",
        "#             batch_size=32,\n",
        "#             seed=42,\n",
        "#             shuffle=True,\n",
        "#             class_mode=\"categorical\",\n",
        "#             target_size=(224,224))\n",
        "\n",
        "# valid_generator=datagen.flow_from_dataframe(\n",
        "#               dataframe= df,\n",
        "#               directory=\"/content/drive/My Drive/Projects/Neural_Network_Competition_Project/Phase_2/TrainDataWithAugmentation/\",\n",
        "#               x_col=\"file_name\",\n",
        "#               y_col=\"annotation\",\n",
        "#               subset=\"validation\",\n",
        "#               batch_size=32,\n",
        "#               seed=42,\n",
        "#               shuffle=True,\n",
        "#               class_mode=\"categorical\",\n",
        "#               target_size=(224,224))"
      ],
      "execution_count": null,
      "outputs": []
    },
    {
      "cell_type": "code",
      "metadata": {
        "id": "J6Eg9ert-1oA",
        "colab_type": "code",
        "colab": {}
      },
      "source": [
        ""
      ],
      "execution_count": null,
      "outputs": []
    },
    {
      "cell_type": "code",
      "metadata": {
        "id": "ifHI_fauOxqe",
        "colab_type": "code",
        "colab": {
          "base_uri": "https://localhost:8080/",
          "height": 68
        },
        "outputId": "69f279b4-491f-4fb4-ef54-aab335a65f86"
      },
      "source": [
        "from keras.applications import vgg16\n",
        "from keras.applications.densenet import DenseNet121\n",
        "from keras.applications.inception_v3 import InceptionV3\n",
        "base_model = vgg16.VGG16(input_shape=(224, 224, 3), weights='imagenet',include_top = False, pooling = 'avg')\n",
        "\n",
        "len(base_model.layers)"
      ],
      "execution_count": null,
      "outputs": [
        {
          "output_type": "stream",
          "text": [
            "Downloading data from https://github.com/fchollet/deep-learning-models/releases/download/v0.1/vgg16_weights_tf_dim_ordering_tf_kernels_notop.h5\n",
            "58892288/58889256 [==============================] - 2s 0us/step\n"
          ],
          "name": "stdout"
        },
        {
          "output_type": "execute_result",
          "data": {
            "text/plain": [
              "20"
            ]
          },
          "metadata": {
            "tags": []
          },
          "execution_count": 11
        }
      ]
    },
    {
      "cell_type": "code",
      "metadata": {
        "id": "yv7pSTA4le99",
        "colab_type": "code",
        "colab": {}
      },
      "source": [
        "for layer in base_model.layers[:15]:\n",
        "  layer.trainable = False\n",
        "\n",
        "for layer in base_model.layers[15:]:\n",
        "  layer.trainable = True"
      ],
      "execution_count": null,
      "outputs": []
    },
    {
      "cell_type": "code",
      "metadata": {
        "id": "ij0kIqsGlZkf",
        "colab_type": "code",
        "colab": {
          "base_uri": "https://localhost:8080/",
          "height": 723
        },
        "outputId": "1ae3ff6c-4368-481e-d6a0-b303ea3c3f4b"
      },
      "source": [
        "pd.set_option('max_colwidth', -1)\n",
        "layers = [(layer, layer.name, layer.trainable) for layer in base_model.layers]\n",
        "pd.DataFrame(layers, columns=['Layer Type', 'Layer Name', 'Layer Trainable'])"
      ],
      "execution_count": null,
      "outputs": [
        {
          "output_type": "stream",
          "text": [
            "/usr/local/lib/python3.6/dist-packages/ipykernel_launcher.py:1: FutureWarning: Passing a negative integer is deprecated in version 1.0 and will not be supported in future version. Instead, use None to not limit the column width.\n",
            "  \"\"\"Entry point for launching an IPython kernel.\n"
          ],
          "name": "stderr"
        },
        {
          "output_type": "execute_result",
          "data": {
            "text/html": [
              "<div>\n",
              "<style scoped>\n",
              "    .dataframe tbody tr th:only-of-type {\n",
              "        vertical-align: middle;\n",
              "    }\n",
              "\n",
              "    .dataframe tbody tr th {\n",
              "        vertical-align: top;\n",
              "    }\n",
              "\n",
              "    .dataframe thead th {\n",
              "        text-align: right;\n",
              "    }\n",
              "</style>\n",
              "<table border=\"1\" class=\"dataframe\">\n",
              "  <thead>\n",
              "    <tr style=\"text-align: right;\">\n",
              "      <th></th>\n",
              "      <th>Layer Type</th>\n",
              "      <th>Layer Name</th>\n",
              "      <th>Layer Trainable</th>\n",
              "    </tr>\n",
              "  </thead>\n",
              "  <tbody>\n",
              "    <tr>\n",
              "      <th>0</th>\n",
              "      <td>&lt;keras.engine.input_layer.InputLayer object at 0x7f64fb5a9080&gt;</td>\n",
              "      <td>input_1</td>\n",
              "      <td>False</td>\n",
              "    </tr>\n",
              "    <tr>\n",
              "      <th>1</th>\n",
              "      <td>&lt;keras.layers.convolutional.Conv2D object at 0x7f64fb5a9630&gt;</td>\n",
              "      <td>block1_conv1</td>\n",
              "      <td>False</td>\n",
              "    </tr>\n",
              "    <tr>\n",
              "      <th>2</th>\n",
              "      <td>&lt;keras.layers.convolutional.Conv2D object at 0x7f64fb5a9a20&gt;</td>\n",
              "      <td>block1_conv2</td>\n",
              "      <td>False</td>\n",
              "    </tr>\n",
              "    <tr>\n",
              "      <th>3</th>\n",
              "      <td>&lt;keras.layers.pooling.MaxPooling2D object at 0x7f64fb5a9c18&gt;</td>\n",
              "      <td>block1_pool</td>\n",
              "      <td>False</td>\n",
              "    </tr>\n",
              "    <tr>\n",
              "      <th>4</th>\n",
              "      <td>&lt;keras.layers.convolutional.Conv2D object at 0x7f64fb5a9c50&gt;</td>\n",
              "      <td>block2_conv1</td>\n",
              "      <td>False</td>\n",
              "    </tr>\n",
              "    <tr>\n",
              "      <th>5</th>\n",
              "      <td>&lt;keras.layers.convolutional.Conv2D object at 0x7f64fb562c88&gt;</td>\n",
              "      <td>block2_conv2</td>\n",
              "      <td>False</td>\n",
              "    </tr>\n",
              "    <tr>\n",
              "      <th>6</th>\n",
              "      <td>&lt;keras.layers.pooling.MaxPooling2D object at 0x7f64fb577828&gt;</td>\n",
              "      <td>block2_pool</td>\n",
              "      <td>False</td>\n",
              "    </tr>\n",
              "    <tr>\n",
              "      <th>7</th>\n",
              "      <td>&lt;keras.layers.convolutional.Conv2D object at 0x7f64fb577668&gt;</td>\n",
              "      <td>block3_conv1</td>\n",
              "      <td>False</td>\n",
              "    </tr>\n",
              "    <tr>\n",
              "      <th>8</th>\n",
              "      <td>&lt;keras.layers.convolutional.Conv2D object at 0x7f64fb57e358&gt;</td>\n",
              "      <td>block3_conv2</td>\n",
              "      <td>False</td>\n",
              "    </tr>\n",
              "    <tr>\n",
              "      <th>9</th>\n",
              "      <td>&lt;keras.layers.convolutional.Conv2D object at 0x7f64fb57eef0&gt;</td>\n",
              "      <td>block3_conv3</td>\n",
              "      <td>False</td>\n",
              "    </tr>\n",
              "    <tr>\n",
              "      <th>10</th>\n",
              "      <td>&lt;keras.layers.pooling.MaxPooling2D object at 0x7f64fb588978&gt;</td>\n",
              "      <td>block3_pool</td>\n",
              "      <td>False</td>\n",
              "    </tr>\n",
              "    <tr>\n",
              "      <th>11</th>\n",
              "      <td>&lt;keras.layers.convolutional.Conv2D object at 0x7f64fb5887b8&gt;</td>\n",
              "      <td>block4_conv1</td>\n",
              "      <td>False</td>\n",
              "    </tr>\n",
              "    <tr>\n",
              "      <th>12</th>\n",
              "      <td>&lt;keras.layers.convolutional.Conv2D object at 0x7f64fb58d4a8&gt;</td>\n",
              "      <td>block4_conv2</td>\n",
              "      <td>False</td>\n",
              "    </tr>\n",
              "    <tr>\n",
              "      <th>13</th>\n",
              "      <td>&lt;keras.layers.convolutional.Conv2D object at 0x7f64fb58dda0&gt;</td>\n",
              "      <td>block4_conv3</td>\n",
              "      <td>False</td>\n",
              "    </tr>\n",
              "    <tr>\n",
              "      <th>14</th>\n",
              "      <td>&lt;keras.layers.pooling.MaxPooling2D object at 0x7f64fb0c6ac8&gt;</td>\n",
              "      <td>block4_pool</td>\n",
              "      <td>False</td>\n",
              "    </tr>\n",
              "    <tr>\n",
              "      <th>15</th>\n",
              "      <td>&lt;keras.layers.convolutional.Conv2D object at 0x7f64fb0c6908&gt;</td>\n",
              "      <td>block5_conv1</td>\n",
              "      <td>True</td>\n",
              "    </tr>\n",
              "    <tr>\n",
              "      <th>16</th>\n",
              "      <td>&lt;keras.layers.convolutional.Conv2D object at 0x7f64fb0cd5f8&gt;</td>\n",
              "      <td>block5_conv2</td>\n",
              "      <td>True</td>\n",
              "    </tr>\n",
              "    <tr>\n",
              "      <th>17</th>\n",
              "      <td>&lt;keras.layers.convolutional.Conv2D object at 0x7f64fb0cdef0&gt;</td>\n",
              "      <td>block5_conv3</td>\n",
              "      <td>True</td>\n",
              "    </tr>\n",
              "    <tr>\n",
              "      <th>18</th>\n",
              "      <td>&lt;keras.layers.pooling.MaxPooling2D object at 0x7f64fb0d3c18&gt;</td>\n",
              "      <td>block5_pool</td>\n",
              "      <td>True</td>\n",
              "    </tr>\n",
              "    <tr>\n",
              "      <th>19</th>\n",
              "      <td>&lt;keras.layers.pooling.GlobalAveragePooling2D object at 0x7f64fb0d3a58&gt;</td>\n",
              "      <td>global_average_pooling2d_1</td>\n",
              "      <td>True</td>\n",
              "    </tr>\n",
              "  </tbody>\n",
              "</table>\n",
              "</div>"
            ],
            "text/plain": [
              "                                                                Layer Type  ... Layer Trainable\n",
              "0   <keras.engine.input_layer.InputLayer object at 0x7f64fb5a9080>          ...  False         \n",
              "1   <keras.layers.convolutional.Conv2D object at 0x7f64fb5a9630>            ...  False         \n",
              "2   <keras.layers.convolutional.Conv2D object at 0x7f64fb5a9a20>            ...  False         \n",
              "3   <keras.layers.pooling.MaxPooling2D object at 0x7f64fb5a9c18>            ...  False         \n",
              "4   <keras.layers.convolutional.Conv2D object at 0x7f64fb5a9c50>            ...  False         \n",
              "5   <keras.layers.convolutional.Conv2D object at 0x7f64fb562c88>            ...  False         \n",
              "6   <keras.layers.pooling.MaxPooling2D object at 0x7f64fb577828>            ...  False         \n",
              "7   <keras.layers.convolutional.Conv2D object at 0x7f64fb577668>            ...  False         \n",
              "8   <keras.layers.convolutional.Conv2D object at 0x7f64fb57e358>            ...  False         \n",
              "9   <keras.layers.convolutional.Conv2D object at 0x7f64fb57eef0>            ...  False         \n",
              "10  <keras.layers.pooling.MaxPooling2D object at 0x7f64fb588978>            ...  False         \n",
              "11  <keras.layers.convolutional.Conv2D object at 0x7f64fb5887b8>            ...  False         \n",
              "12  <keras.layers.convolutional.Conv2D object at 0x7f64fb58d4a8>            ...  False         \n",
              "13  <keras.layers.convolutional.Conv2D object at 0x7f64fb58dda0>            ...  False         \n",
              "14  <keras.layers.pooling.MaxPooling2D object at 0x7f64fb0c6ac8>            ...  False         \n",
              "15  <keras.layers.convolutional.Conv2D object at 0x7f64fb0c6908>            ...  True          \n",
              "16  <keras.layers.convolutional.Conv2D object at 0x7f64fb0cd5f8>            ...  True          \n",
              "17  <keras.layers.convolutional.Conv2D object at 0x7f64fb0cdef0>            ...  True          \n",
              "18  <keras.layers.pooling.MaxPooling2D object at 0x7f64fb0d3c18>            ...  True          \n",
              "19  <keras.layers.pooling.GlobalAveragePooling2D object at 0x7f64fb0d3a58>  ...  True          \n",
              "\n",
              "[20 rows x 3 columns]"
            ]
          },
          "metadata": {
            "tags": []
          },
          "execution_count": 13
        }
      ]
    },
    {
      "cell_type": "code",
      "metadata": {
        "id": "3oeHEes5lfqm",
        "colab_type": "code",
        "colab": {
          "base_uri": "https://localhost:8080/",
          "height": 833
        },
        "outputId": "58afbcc5-ad13-4372-e99d-25d5f4fb7886"
      },
      "source": [
        "base_model.summary()"
      ],
      "execution_count": null,
      "outputs": [
        {
          "output_type": "stream",
          "text": [
            "Model: \"vgg16\"\n",
            "_________________________________________________________________\n",
            "Layer (type)                 Output Shape              Param #   \n",
            "=================================================================\n",
            "input_1 (InputLayer)         (None, 224, 224, 3)       0         \n",
            "_________________________________________________________________\n",
            "block1_conv1 (Conv2D)        (None, 224, 224, 64)      1792      \n",
            "_________________________________________________________________\n",
            "block1_conv2 (Conv2D)        (None, 224, 224, 64)      36928     \n",
            "_________________________________________________________________\n",
            "block1_pool (MaxPooling2D)   (None, 112, 112, 64)      0         \n",
            "_________________________________________________________________\n",
            "block2_conv1 (Conv2D)        (None, 112, 112, 128)     73856     \n",
            "_________________________________________________________________\n",
            "block2_conv2 (Conv2D)        (None, 112, 112, 128)     147584    \n",
            "_________________________________________________________________\n",
            "block2_pool (MaxPooling2D)   (None, 56, 56, 128)       0         \n",
            "_________________________________________________________________\n",
            "block3_conv1 (Conv2D)        (None, 56, 56, 256)       295168    \n",
            "_________________________________________________________________\n",
            "block3_conv2 (Conv2D)        (None, 56, 56, 256)       590080    \n",
            "_________________________________________________________________\n",
            "block3_conv3 (Conv2D)        (None, 56, 56, 256)       590080    \n",
            "_________________________________________________________________\n",
            "block3_pool (MaxPooling2D)   (None, 28, 28, 256)       0         \n",
            "_________________________________________________________________\n",
            "block4_conv1 (Conv2D)        (None, 28, 28, 512)       1180160   \n",
            "_________________________________________________________________\n",
            "block4_conv2 (Conv2D)        (None, 28, 28, 512)       2359808   \n",
            "_________________________________________________________________\n",
            "block4_conv3 (Conv2D)        (None, 28, 28, 512)       2359808   \n",
            "_________________________________________________________________\n",
            "block4_pool (MaxPooling2D)   (None, 14, 14, 512)       0         \n",
            "_________________________________________________________________\n",
            "block5_conv1 (Conv2D)        (None, 14, 14, 512)       2359808   \n",
            "_________________________________________________________________\n",
            "block5_conv2 (Conv2D)        (None, 14, 14, 512)       2359808   \n",
            "_________________________________________________________________\n",
            "block5_conv3 (Conv2D)        (None, 14, 14, 512)       2359808   \n",
            "_________________________________________________________________\n",
            "block5_pool (MaxPooling2D)   (None, 7, 7, 512)         0         \n",
            "_________________________________________________________________\n",
            "global_average_pooling2d_1 ( (None, 512)               0         \n",
            "=================================================================\n",
            "Total params: 14,714,688\n",
            "Trainable params: 7,079,424\n",
            "Non-trainable params: 7,635,264\n",
            "_________________________________________________________________\n"
          ],
          "name": "stdout"
        }
      ]
    },
    {
      "cell_type": "code",
      "metadata": {
        "id": "kCNh_LxUlvck",
        "colab_type": "code",
        "colab": {
          "base_uri": "https://localhost:8080/",
          "height": 1000
        },
        "outputId": "b40a474c-a2bb-4b3b-f522-0934d7b45cd9"
      },
      "source": [
        "\n",
        "x = base_model.output\n",
        "x = Dropout(0.5)(x)\n",
        "x = Dense(512)(x)\n",
        "\n",
        "x = Activation('relu')(x)\n",
        "x = Dense(1024)(x)\n",
        "\n",
        "x = Activation('relu')(x)\n",
        "predictions = Dense(5, activation='softmax')(x)\n",
        "vgg_model = Model(inputs=base_model.input, outputs=predictions)\n",
        "\n",
        "vgg_model.compile(loss = \"categorical_crossentropy\", optimizer = 'SGD', metrics = ['accuracy'])\n",
        "\n",
        "vgg_model.summary()"
      ],
      "execution_count": null,
      "outputs": [
        {
          "output_type": "stream",
          "text": [
            "Model: \"model_1\"\n",
            "_________________________________________________________________\n",
            "Layer (type)                 Output Shape              Param #   \n",
            "=================================================================\n",
            "input_1 (InputLayer)         (None, 224, 224, 3)       0         \n",
            "_________________________________________________________________\n",
            "block1_conv1 (Conv2D)        (None, 224, 224, 64)      1792      \n",
            "_________________________________________________________________\n",
            "block1_conv2 (Conv2D)        (None, 224, 224, 64)      36928     \n",
            "_________________________________________________________________\n",
            "block1_pool (MaxPooling2D)   (None, 112, 112, 64)      0         \n",
            "_________________________________________________________________\n",
            "block2_conv1 (Conv2D)        (None, 112, 112, 128)     73856     \n",
            "_________________________________________________________________\n",
            "block2_conv2 (Conv2D)        (None, 112, 112, 128)     147584    \n",
            "_________________________________________________________________\n",
            "block2_pool (MaxPooling2D)   (None, 56, 56, 128)       0         \n",
            "_________________________________________________________________\n",
            "block3_conv1 (Conv2D)        (None, 56, 56, 256)       295168    \n",
            "_________________________________________________________________\n",
            "block3_conv2 (Conv2D)        (None, 56, 56, 256)       590080    \n",
            "_________________________________________________________________\n",
            "block3_conv3 (Conv2D)        (None, 56, 56, 256)       590080    \n",
            "_________________________________________________________________\n",
            "block3_pool (MaxPooling2D)   (None, 28, 28, 256)       0         \n",
            "_________________________________________________________________\n",
            "block4_conv1 (Conv2D)        (None, 28, 28, 512)       1180160   \n",
            "_________________________________________________________________\n",
            "block4_conv2 (Conv2D)        (None, 28, 28, 512)       2359808   \n",
            "_________________________________________________________________\n",
            "block4_conv3 (Conv2D)        (None, 28, 28, 512)       2359808   \n",
            "_________________________________________________________________\n",
            "block4_pool (MaxPooling2D)   (None, 14, 14, 512)       0         \n",
            "_________________________________________________________________\n",
            "block5_conv1 (Conv2D)        (None, 14, 14, 512)       2359808   \n",
            "_________________________________________________________________\n",
            "block5_conv2 (Conv2D)        (None, 14, 14, 512)       2359808   \n",
            "_________________________________________________________________\n",
            "block5_conv3 (Conv2D)        (None, 14, 14, 512)       2359808   \n",
            "_________________________________________________________________\n",
            "block5_pool (MaxPooling2D)   (None, 7, 7, 512)         0         \n",
            "_________________________________________________________________\n",
            "global_average_pooling2d_1 ( (None, 512)               0         \n",
            "_________________________________________________________________\n",
            "dropout_1 (Dropout)          (None, 512)               0         \n",
            "_________________________________________________________________\n",
            "dense_1 (Dense)              (None, 512)               262656    \n",
            "_________________________________________________________________\n",
            "activation_1 (Activation)    (None, 512)               0         \n",
            "_________________________________________________________________\n",
            "dense_2 (Dense)              (None, 1024)              525312    \n",
            "_________________________________________________________________\n",
            "activation_2 (Activation)    (None, 1024)              0         \n",
            "_________________________________________________________________\n",
            "dense_3 (Dense)              (None, 5)                 5125      \n",
            "=================================================================\n",
            "Total params: 15,507,781\n",
            "Trainable params: 7,872,517\n",
            "Non-trainable params: 7,635,264\n",
            "_________________________________________________________________\n"
          ],
          "name": "stdout"
        }
      ]
    },
    {
      "cell_type": "code",
      "metadata": {
        "id": "MlNNTN0gZoxL",
        "colab_type": "code",
        "colab": {}
      },
      "source": [
        "from keras.callbacks import EarlyStopping, ModelCheckpoint, TensorBoard, ReduceLROnPlateau\n",
        "\n",
        "def get_callbacks():\n",
        "\n",
        "   path_checkpoint ='checkpoint_keras'  \n",
        "   log_dir='logs'\n",
        "   \n",
        "   callback_checkpoint = ModelCheckpoint(filepath=path_checkpoint,\n",
        "                                         monitor='val_loss',\n",
        "                                         verbose=1,\n",
        "                                         save_weights_only=False,\n",
        "                                         save_best_only=True,\n",
        "                                         mode='max',\n",
        "                                         period=1)\n",
        "   \n",
        "   callback_early_stopping = EarlyStopping(monitor='val_loss',\n",
        "                                           patience=5,\n",
        "                                           verbose=1)\n",
        "   \n",
        "   callback_tensorboard = TensorBoard(log_dir=log_dir,\n",
        "                                      histogram_freq=0,\n",
        "                                      write_graph=False)\n",
        "   \n",
        "   callback_reduce_lr = ReduceLROnPlateau(monitor='val_loss',\n",
        "                                          factor=0.1,\n",
        "                                          min_lr=1e-4,\n",
        "                                          patience=3,\n",
        "                                          verbose=1)\n",
        "\n",
        "   callbacks = [callback_checkpoint, callback_tensorboard, callback_reduce_lr]\n",
        "\n",
        "   return callbacks"
      ],
      "execution_count": null,
      "outputs": []
    },
    {
      "cell_type": "code",
      "metadata": {
        "id": "ZBT2F6rPTsml",
        "colab_type": "code",
        "colab": {}
      },
      "source": [
        "epochs = 40"
      ],
      "execution_count": null,
      "outputs": []
    },
    {
      "cell_type": "markdown",
      "metadata": {
        "id": "mwo6ASwxLGdP",
        "colab_type": "text"
      },
      "source": [
        ""
      ]
    },
    {
      "cell_type": "code",
      "metadata": {
        "id": "-90wy98FPCND",
        "colab_type": "code",
        "colab": {
          "base_uri": "https://localhost:8080/",
          "height": 1000
        },
        "outputId": "589270aa-93d9-4583-9234-4d0ef43fbdf0"
      },
      "source": [
        "vgg_model.fit_generator(train_generator, \n",
        "                    epochs = epochs, \n",
        "                    validation_data = validation_generator, callbacks = get_callbacks())\n",
        "\n"
      ],
      "execution_count": null,
      "outputs": [
        {
          "output_type": "stream",
          "text": [
            "Epoch 1/40\n",
            "57/57 [==============================] - 312s 5s/step - loss: 1.5360 - accuracy: 0.3172 - val_loss: 1.2999 - val_accuracy: 0.5788\n",
            "\n",
            "Epoch 00001: val_loss improved from -inf to 1.29987, saving model to checkpoint_keras\n",
            "Epoch 2/40\n",
            "57/57 [==============================] - 19s 327ms/step - loss: 1.3615 - accuracy: 0.4138 - val_loss: 0.8352 - val_accuracy: 0.5548\n",
            "\n",
            "Epoch 00002: val_loss did not improve from 1.29987\n",
            "Epoch 3/40\n",
            "57/57 [==============================] - 21s 367ms/step - loss: 1.2322 - accuracy: 0.4753 - val_loss: 0.9695 - val_accuracy: 0.6062\n",
            "\n",
            "Epoch 00003: val_loss did not improve from 1.29987\n",
            "Epoch 4/40\n",
            "57/57 [==============================] - 21s 364ms/step - loss: 1.1725 - accuracy: 0.4874 - val_loss: 1.0598 - val_accuracy: 0.4589\n",
            "\n",
            "Epoch 00004: val_loss did not improve from 1.29987\n",
            "Epoch 5/40\n",
            "57/57 [==============================] - 21s 371ms/step - loss: 1.1327 - accuracy: 0.5214 - val_loss: 0.5913 - val_accuracy: 0.6575\n",
            "\n",
            "Epoch 00005: val_loss did not improve from 1.29987\n",
            "Epoch 6/40\n",
            "57/57 [==============================] - 21s 363ms/step - loss: 1.0891 - accuracy: 0.5390 - val_loss: 0.9021 - val_accuracy: 0.5445\n",
            "\n",
            "Epoch 00006: val_loss did not improve from 1.29987\n",
            "Epoch 7/40\n",
            "57/57 [==============================] - 21s 364ms/step - loss: 1.0632 - accuracy: 0.5576 - val_loss: 1.1719 - val_accuracy: 0.6370\n",
            "\n",
            "Epoch 00007: val_loss did not improve from 1.29987\n",
            "Epoch 8/40\n",
            "57/57 [==============================] - 21s 365ms/step - loss: 1.0180 - accuracy: 0.5467 - val_loss: 0.5007 - val_accuracy: 0.6027\n",
            "\n",
            "Epoch 00008: val_loss did not improve from 1.29987\n",
            "Epoch 9/40\n",
            "57/57 [==============================] - 21s 366ms/step - loss: 0.9774 - accuracy: 0.5829 - val_loss: 0.3911 - val_accuracy: 0.6712\n",
            "\n",
            "Epoch 00009: val_loss did not improve from 1.29987\n",
            "Epoch 10/40\n",
            "57/57 [==============================] - 21s 364ms/step - loss: 0.9476 - accuracy: 0.5906 - val_loss: 0.9075 - val_accuracy: 0.6781\n",
            "\n",
            "Epoch 00010: val_loss did not improve from 1.29987\n",
            "Epoch 11/40\n",
            "57/57 [==============================] - 21s 368ms/step - loss: 0.9022 - accuracy: 0.6356 - val_loss: 0.2944 - val_accuracy: 0.6849\n",
            "\n",
            "Epoch 00011: val_loss did not improve from 1.29987\n",
            "Epoch 12/40\n",
            "57/57 [==============================] - 21s 364ms/step - loss: 0.9284 - accuracy: 0.6257 - val_loss: 0.2068 - val_accuracy: 0.6747\n",
            "\n",
            "Epoch 00012: val_loss did not improve from 1.29987\n",
            "Epoch 13/40\n",
            "57/57 [==============================] - 21s 368ms/step - loss: 0.8688 - accuracy: 0.6323 - val_loss: 0.1182 - val_accuracy: 0.7466\n",
            "\n",
            "Epoch 00013: val_loss did not improve from 1.29987\n",
            "Epoch 14/40\n",
            "57/57 [==============================] - 21s 372ms/step - loss: 0.8688 - accuracy: 0.6465 - val_loss: 1.1935 - val_accuracy: 0.6027\n",
            "\n",
            "Epoch 00014: val_loss did not improve from 1.29987\n",
            "Epoch 15/40\n",
            "57/57 [==============================] - 21s 364ms/step - loss: 0.8523 - accuracy: 0.6411 - val_loss: 0.5709 - val_accuracy: 0.7466\n",
            "\n",
            "Epoch 00015: val_loss did not improve from 1.29987\n",
            "Epoch 16/40\n",
            "57/57 [==============================] - 21s 362ms/step - loss: 0.8426 - accuracy: 0.6498 - val_loss: 0.5879 - val_accuracy: 0.6438\n",
            "\n",
            "Epoch 00016: val_loss did not improve from 1.29987\n",
            "\n",
            "Epoch 00016: ReduceLROnPlateau reducing learning rate to 0.0009999999776482583.\n",
            "Epoch 17/40\n",
            "57/57 [==============================] - 21s 363ms/step - loss: 0.7292 - accuracy: 0.7179 - val_loss: 0.1460 - val_accuracy: 0.7021\n",
            "\n",
            "Epoch 00017: val_loss did not improve from 1.29987\n",
            "Epoch 18/40\n",
            "57/57 [==============================] - 21s 364ms/step - loss: 0.7130 - accuracy: 0.7289 - val_loss: 1.8540 - val_accuracy: 0.7192\n",
            "\n",
            "Epoch 00018: val_loss improved from 1.29987 to 1.85397, saving model to checkpoint_keras\n",
            "Epoch 19/40\n",
            "57/57 [==============================] - 21s 362ms/step - loss: 0.7064 - accuracy: 0.7102 - val_loss: 0.5305 - val_accuracy: 0.7055\n",
            "\n",
            "Epoch 00019: val_loss did not improve from 1.85397\n",
            "\n",
            "Epoch 00019: ReduceLROnPlateau reducing learning rate to 0.0001.\n",
            "Epoch 20/40\n",
            "57/57 [==============================] - 21s 364ms/step - loss: 0.7159 - accuracy: 0.7278 - val_loss: 0.0364 - val_accuracy: 0.7226\n",
            "\n",
            "Epoch 00020: val_loss did not improve from 1.85397\n",
            "Epoch 21/40\n",
            "57/57 [==============================] - 21s 366ms/step - loss: 0.7083 - accuracy: 0.7124 - val_loss: 0.9422 - val_accuracy: 0.7089\n",
            "\n",
            "Epoch 00021: val_loss did not improve from 1.85397\n",
            "Epoch 22/40\n",
            "57/57 [==============================] - 21s 364ms/step - loss: 0.6855 - accuracy: 0.7234 - val_loss: 0.1681 - val_accuracy: 0.7055\n",
            "\n",
            "Epoch 00022: val_loss did not improve from 1.85397\n",
            "Epoch 23/40\n",
            "57/57 [==============================] - 21s 365ms/step - loss: 0.7085 - accuracy: 0.7135 - val_loss: 0.4643 - val_accuracy: 0.7055\n",
            "\n",
            "Epoch 00023: val_loss did not improve from 1.85397\n",
            "Epoch 24/40\n",
            "57/57 [==============================] - 21s 364ms/step - loss: 0.6954 - accuracy: 0.7223 - val_loss: 0.9205 - val_accuracy: 0.7055\n",
            "\n",
            "Epoch 00024: val_loss did not improve from 1.85397\n",
            "Epoch 25/40\n",
            "57/57 [==============================] - 21s 368ms/step - loss: 0.7009 - accuracy: 0.7080 - val_loss: 1.0523 - val_accuracy: 0.7089\n",
            "\n",
            "Epoch 00025: val_loss did not improve from 1.85397\n",
            "Epoch 26/40\n",
            "57/57 [==============================] - 21s 365ms/step - loss: 0.7005 - accuracy: 0.7102 - val_loss: 0.3104 - val_accuracy: 0.7089\n",
            "\n",
            "Epoch 00026: val_loss did not improve from 1.85397\n",
            "Epoch 27/40\n",
            "57/57 [==============================] - 21s 366ms/step - loss: 0.6881 - accuracy: 0.7300 - val_loss: 1.0176 - val_accuracy: 0.7089\n",
            "\n",
            "Epoch 00027: val_loss did not improve from 1.85397\n",
            "Epoch 28/40\n",
            "57/57 [==============================] - 21s 370ms/step - loss: 0.7015 - accuracy: 0.7223 - val_loss: 0.6443 - val_accuracy: 0.7089\n",
            "\n",
            "Epoch 00028: val_loss did not improve from 1.85397\n",
            "Epoch 29/40\n",
            "57/57 [==============================] - 21s 374ms/step - loss: 0.6782 - accuracy: 0.7344 - val_loss: 1.1215 - val_accuracy: 0.7123\n",
            "\n",
            "Epoch 00029: val_loss did not improve from 1.85397\n",
            "Epoch 30/40\n",
            "57/57 [==============================] - 21s 363ms/step - loss: 0.6848 - accuracy: 0.7201 - val_loss: 0.8570 - val_accuracy: 0.7089\n",
            "\n",
            "Epoch 00030: val_loss did not improve from 1.85397\n",
            "Epoch 31/40\n",
            "57/57 [==============================] - 21s 363ms/step - loss: 0.6981 - accuracy: 0.7146 - val_loss: 0.7326 - val_accuracy: 0.7089\n",
            "\n",
            "Epoch 00031: val_loss did not improve from 1.85397\n",
            "Epoch 32/40\n",
            "57/57 [==============================] - 21s 370ms/step - loss: 0.6899 - accuracy: 0.7146 - val_loss: 0.8929 - val_accuracy: 0.7055\n",
            "\n",
            "Epoch 00032: val_loss did not improve from 1.85397\n",
            "Epoch 33/40\n",
            "57/57 [==============================] - 21s 364ms/step - loss: 0.7126 - accuracy: 0.6981 - val_loss: 1.3467 - val_accuracy: 0.7089\n",
            "\n",
            "Epoch 00033: val_loss did not improve from 1.85397\n",
            "Epoch 34/40\n",
            "57/57 [==============================] - 21s 367ms/step - loss: 0.6928 - accuracy: 0.7223 - val_loss: 0.3180 - val_accuracy: 0.7123\n",
            "\n",
            "Epoch 00034: val_loss did not improve from 1.85397\n",
            "Epoch 35/40\n",
            "57/57 [==============================] - 21s 362ms/step - loss: 0.6854 - accuracy: 0.7311 - val_loss: 0.5326 - val_accuracy: 0.7123\n",
            "\n",
            "Epoch 00035: val_loss did not improve from 1.85397\n",
            "Epoch 36/40\n",
            "57/57 [==============================] - 21s 371ms/step - loss: 0.6880 - accuracy: 0.7278 - val_loss: 0.7321 - val_accuracy: 0.7055\n",
            "\n",
            "Epoch 00036: val_loss did not improve from 1.85397\n",
            "Epoch 37/40\n",
            "57/57 [==============================] - 21s 367ms/step - loss: 0.6902 - accuracy: 0.7311 - val_loss: 1.3224 - val_accuracy: 0.7089\n",
            "\n",
            "Epoch 00037: val_loss did not improve from 1.85397\n",
            "Epoch 38/40\n",
            "57/57 [==============================] - 21s 362ms/step - loss: 0.7070 - accuracy: 0.7113 - val_loss: 0.6060 - val_accuracy: 0.7089\n",
            "\n",
            "Epoch 00038: val_loss did not improve from 1.85397\n",
            "Epoch 39/40\n",
            "57/57 [==============================] - 21s 366ms/step - loss: 0.7112 - accuracy: 0.7091 - val_loss: 0.2849 - val_accuracy: 0.7123\n",
            "\n",
            "Epoch 00039: val_loss did not improve from 1.85397\n",
            "Epoch 40/40\n",
            "57/57 [==============================] - 21s 370ms/step - loss: 0.6971 - accuracy: 0.7069 - val_loss: 0.5665 - val_accuracy: 0.7123\n",
            "\n",
            "Epoch 00040: val_loss did not improve from 1.85397\n"
          ],
          "name": "stdout"
        },
        {
          "output_type": "execute_result",
          "data": {
            "text/plain": [
              "<keras.callbacks.callbacks.History at 0x7f64f01987f0>"
            ]
          },
          "metadata": {
            "tags": []
          },
          "execution_count": 18
        }
      ]
    },
    {
      "cell_type": "code",
      "metadata": {
        "id": "wZAypSXATdJV",
        "colab_type": "code",
        "colab": {}
      },
      "source": [
        "## vggbest AccuracyL 84 val_acc: 82"
      ],
      "execution_count": null,
      "outputs": []
    },
    {
      "cell_type": "code",
      "metadata": {
        "id": "8PmkevZXUIp2",
        "colab_type": "code",
        "colab": {
          "base_uri": "https://localhost:8080/",
          "height": 231
        },
        "outputId": "53f61937-9b7f-45af-a1af-1ca13a395bad"
      },
      "source": [
        "history = vgg_model.history\n",
        "\n",
        "import matplotlib.pyplot as plt\n",
        "\n",
        "# summarize history for accuracy\n",
        "plt.plot(history.history['accuracy'])\n",
        "plt.plot(history.history['val_accuracy'])\n",
        "plt.title('model accuracy')\n",
        "plt.ylabel('accuracy')\n",
        "plt.xlabel('epoch')\n",
        "plt.legend(['train', 'val'], loc='upper left')\n",
        "plt.savefig('/content/drive/My Drive/Projects/Neural_Network_Competition_Project/Phase_2/vgg_accuracy_curve.png')\n",
        "plt.show()\n",
        "\n",
        "# summarize history for loss\n",
        "plt.plot(history.history['loss'])\n",
        "plt.plot(history.history['val_loss'])\n",
        "plt.title('model loss')\n",
        "plt.ylabel('loss')\n",
        "plt.xlabel('epoch')\n",
        "plt.legend(['train', 'val'], loc='upper left')\n",
        "plt.savefig('/content/drive/My Drive/Projects/Neural_Network_Competition_Project/Phase_2/vgg_loss_curve.png')"
      ],
      "execution_count": null,
      "outputs": [
        {
          "output_type": "error",
          "ename": "NameError",
          "evalue": "ignored",
          "traceback": [
            "\u001b[0;31m---------------------------------------------------------------------------\u001b[0m",
            "\u001b[0;31mNameError\u001b[0m                                 Traceback (most recent call last)",
            "\u001b[0;32m<ipython-input-1-87b5ecec5bfd>\u001b[0m in \u001b[0;36m<module>\u001b[0;34m()\u001b[0m\n\u001b[0;32m----> 1\u001b[0;31m \u001b[0mhistory\u001b[0m \u001b[0;34m=\u001b[0m \u001b[0mvgg_model\u001b[0m\u001b[0;34m.\u001b[0m\u001b[0mhistory\u001b[0m\u001b[0;34m\u001b[0m\u001b[0;34m\u001b[0m\u001b[0m\n\u001b[0m\u001b[1;32m      2\u001b[0m \u001b[0;34m\u001b[0m\u001b[0m\n\u001b[1;32m      3\u001b[0m \u001b[0;32mimport\u001b[0m \u001b[0mmatplotlib\u001b[0m\u001b[0;34m.\u001b[0m\u001b[0mpyplot\u001b[0m \u001b[0;32mas\u001b[0m \u001b[0mplt\u001b[0m\u001b[0;34m\u001b[0m\u001b[0;34m\u001b[0m\u001b[0m\n\u001b[1;32m      4\u001b[0m \u001b[0;34m\u001b[0m\u001b[0m\n\u001b[1;32m      5\u001b[0m \u001b[0;31m# summarize history for accuracy\u001b[0m\u001b[0;34m\u001b[0m\u001b[0;34m\u001b[0m\u001b[0;34m\u001b[0m\u001b[0m\n",
            "\u001b[0;31mNameError\u001b[0m: name 'vgg_model' is not defined"
          ]
        }
      ]
    },
    {
      "cell_type": "code",
      "metadata": {
        "id": "RFA-DlQhAaQb",
        "colab_type": "code",
        "colab": {}
      },
      "source": [
        "#Save the model\n",
        "vgg_model.save('/content/drive/My Drive/Projects/Neural_Network_Competition_Project/Phase_2/vggbest_model.h5')\n",
        "with open('/content/drive/My Drive/Projects/Neural_Network_Competition_Project/Phase_2/vggbest_model.json', 'w') as f:\n",
        "    f.write(vgg_model.to_json())"
      ],
      "execution_count": null,
      "outputs": []
    },
    {
      "cell_type": "code",
      "metadata": {
        "id": "bfhzd-L4pvmf",
        "colab_type": "code",
        "colab": {
          "base_uri": "https://localhost:8080/",
          "height": 71
        },
        "outputId": "673b8eb3-1fa1-4d2a-d259-47cced6d5f01"
      },
      "source": [
        "from tensorflow.keras.preprocessing.image import ImageDataGenerator\n",
        "test_datagen = ImageDataGenerator(rescale=1./255)\n",
        "\n",
        "test_generator = test_datagen.flow_from_directory(\n",
        "        directory = r\"/content/drive/My Drive/Projects/Neural_Network_Competition_Project/Phase_2/TestData\",\n",
        "        target_size=(224, 224),\n",
        "        shuffle = False,\n",
        "        class_mode='categorical',\n",
        "        batch_size=1)\n",
        "\n",
        "filenames = test_generator.filenames\n",
        "print(filenames)"
      ],
      "execution_count": null,
      "outputs": [
        {
          "output_type": "stream",
          "text": [
            "Found 200 images belonging to 1 classes.\n",
            "['0/020031.jpg', '0/020244.jpg', '0/020446.jpg', '0/020597.jpg', '0/020693.jpg', '0/020720.jpg', '0/020783.jpg', '0/020795.jpg', '0/020810.jpg', '0/020833.jpg', '0/020835.jpg', '0/020848.jpg', '0/020861.jpg', '0/020877.jpg', '0/020881.jpg', '0/020963.jpg', '0/020980.jpg', '0/021039.jpg', '0/021048.jpg', '0/021095.jpg', '0/021104.jpg', '0/021220.jpg', '0/021267.jpg', '0/021366.jpg', '0/021423.jpg', '0/021455.jpg', '0/021457.jpg', '0/021621.jpg', '0/021659.jpg', '0/021729.jpg', '0/021763.jpg', '0/021773.jpg', '0/021818.jpg', '0/021819.jpg', '0/022010.jpg', '0/022021.jpg', '0/022090.jpg', '0/022127.jpg', '0/022145.jpg', '0/022158.jpg', '0/022202.jpg', '0/022231.jpg', '0/022377.jpg', '0/022385.jpg', '0/022432.jpg', '0/022438.jpg', '0/022497.jpg', '0/022551.jpg', '0/022554.jpg', '0/022628.jpg', '0/022629.jpg', '0/022642.jpg', '0/022757.jpg', '0/022800.jpg', '0/022826.jpg', '0/023041.jpg', '0/023112.jpg', '0/023195.jpg', '0/023229.jpg', '0/023278.jpg', '0/023291.jpg', '0/023304.jpg', '0/023330.jpg', '0/023369.jpg', '0/023370.jpg', '0/023381.jpg', '0/023458.jpg', '0/023468.jpg', '0/023474.jpg', '0/023476.jpg', '0/023508.jpg', '0/023513.jpg', '0/023537.jpg', '0/023542.jpg', '0/023624.jpg', '0/023674.jpg', '0/023686.jpg', '0/023780.jpg', '0/023822.jpg', '0/023846.jpg', '0/023897.jpg', '0/024060.jpg', '0/024201.jpg', '0/024242.jpg', '0/024256.jpg', '0/024292.jpg', '0/024317.jpg', '0/024373.jpg', '0/024530.jpg', '0/024535.jpg', '0/024576.jpg', '0/024606.jpg', '0/024608.jpg', '0/024641.jpg', '0/024689.jpg', '0/024739.jpg', '0/024768.jpg', '0/024774.jpg', '0/024801.jpg', '0/024888.jpg', '0/024928.jpg', '0/024949.jpg', '0/024988.jpg', '0/025038.jpg', '0/025088.jpg', '0/025111.jpg', '0/025146.jpg', '0/025179.jpg', '0/025187.jpg', '0/025225.jpg', '0/025268.jpg', '0/025287.jpg', '0/025325.jpg', '0/025328.jpg', '0/025410.jpg', '0/025625.jpg', '0/025668.jpg', '0/025679.jpg', '0/025692.jpg', '0/025722.jpg', '0/025755.jpg', '0/025770.jpg', '0/025861.jpg', '0/026028.jpg', '0/026099.jpg', '0/026110.jpg', '0/026155.jpg', '0/026199.jpg', '0/026256.jpg', '0/026268.jpg', '0/026277.jpg', '0/026346.jpg', '0/026347.jpg', '0/026370.jpg', '0/026463.jpg', '0/026563.jpg', '0/026627.jpg', '0/026670.jpg', '0/026728.jpg', '0/026861.jpg', '0/026947.jpg', '0/026982.jpg', '0/027030.jpg', '0/027072.jpg', '0/027094.jpg', '0/027132.jpg', '0/027161.jpg', '0/027228.jpg', '0/027258.jpg', '0/027299.jpg', '0/027314.jpg', '0/027323.jpg', '0/027353.jpg', '0/027495.jpg', '0/027535.jpg', '0/027686.jpg', '0/027691.jpg', '0/027762.jpg', '0/027769.jpg', '0/027780.jpg', '0/027838.jpg', '0/027886.jpg', '0/027897.jpg', '0/027898.jpg', '0/027938.jpg', '0/027976.jpg', '0/028063.jpg', '0/028141.jpg', '0/028193.jpg', '0/028244.jpg', '0/028307.jpg', '0/028321.jpg', '0/028359.jpg', '0/028433.jpg', '0/028512.jpg', '0/028537.jpg', '0/028565.jpg', '0/028729.jpg', '0/028753.jpg', '0/028807.jpg', '0/028935.jpg', '0/029019.jpg', '0/029043.jpg', '0/029095.jpg', '0/029232.jpg', '0/029251.jpg', '0/029311.jpg', '0/029352.jpg', '0/029413.jpg', '0/029425.jpg', '0/029431.jpg', '0/029484.jpg', '0/029545.jpg', '0/029594.jpg', '0/029610.jpg', '0/029650.jpg', '0/029787.jpg', '0/029841.jpg', '0/029866.jpg', '0/029897.jpg']\n"
          ],
          "name": "stdout"
        }
      ]
    },
    {
      "cell_type": "code",
      "metadata": {
        "id": "dx_CZqHLp5Nd",
        "colab_type": "code",
        "colab": {
          "base_uri": "https://localhost:8080/",
          "height": 34
        },
        "outputId": "7f7ed4dd-74b7-4c33-f0ac-42a818db287f"
      },
      "source": [
        "import numpy as np\n",
        "# #load model\n",
        "\n",
        "new_model = keras.models.load_model('/content/drive/My Drive/Projects/Neural_Network_Competition_Project/Phase_2/vggbest_model.h5')\n",
        "print(\"Model loaded successfully\")"
      ],
      "execution_count": null,
      "outputs": [
        {
          "output_type": "stream",
          "text": [
            "Model loaded successfully\n"
          ],
          "name": "stdout"
        }
      ]
    },
    {
      "cell_type": "code",
      "metadata": {
        "id": "BoEyGAfMp9dN",
        "colab_type": "code",
        "colab": {
          "base_uri": "https://localhost:8080/",
          "height": 1000
        },
        "outputId": "e20ad44b-7a1f-42fd-cc82-57fc846e15ae"
      },
      "source": [
        "predictions = new_model.predict_generator(test_generator) \n",
        "print(predictions)    \n",
        "predictions = np.argmax(predictions, axis=-1) #multiple categories\n",
        "label = (test_generator.class_indices)\n",
        "print(predictions)"
      ],
      "execution_count": null,
      "outputs": [
        {
          "output_type": "stream",
          "text": [
            "[[1.32289872e-01 7.44562507e-01 1.19409360e-01 3.51464283e-03\n",
            "  2.23555282e-04]\n",
            " [5.62089044e-05 1.74713507e-02 1.53311407e-02 4.56690267e-02\n",
            "  9.21472251e-01]\n",
            " [1.10060446e-05 2.54654698e-03 3.48485890e-03 1.92639269e-02\n",
            "  9.74693596e-01]\n",
            " [6.21736169e-01 3.32003653e-01 4.59530503e-02 3.03459674e-04\n",
            "  3.60744275e-06]\n",
            " [7.60520762e-03 9.80801284e-01 1.13867577e-02 1.44227568e-04\n",
            "  6.25913963e-05]\n",
            " [1.31713423e-05 8.70723801e-04 2.85965274e-03 3.08574326e-02\n",
            "  9.65399027e-01]\n",
            " [1.31882336e-02 8.78503621e-01 1.04822785e-01 3.21480725e-03\n",
            "  2.70642777e-04]\n",
            " [6.48657084e-01 2.83121228e-01 6.77568838e-02 4.59142990e-04\n",
            "  5.66261224e-06]\n",
            " [2.17698514e-01 7.81128466e-01 1.11396064e-03 2.87117273e-05\n",
            "  3.04029436e-05]\n",
            " [6.83143079e-01 3.16105306e-01 7.49248604e-04 2.30402475e-06\n",
            "  1.19299870e-07]\n",
            " [1.60934348e-02 6.28125548e-01 2.91886479e-01 5.06028943e-02\n",
            "  1.32916104e-02]\n",
            " [9.92413061e-06 4.55414224e-03 1.80627441e-03 6.43783528e-03\n",
            "  9.87191796e-01]\n",
            " [3.19941289e-04 4.30238284e-02 1.11179076e-01 2.94817030e-01\n",
            "  5.50660133e-01]\n",
            " [6.23009447e-03 9.50361609e-01 4.17416804e-02 1.29637460e-03\n",
            "  3.70190799e-04]\n",
            " [6.76260829e-01 3.14358830e-01 9.35309194e-03 2.69333195e-05\n",
            "  2.72779715e-07]\n",
            " [1.75182503e-02 4.34031099e-01 4.73717004e-01 7.10697547e-02\n",
            "  3.66399228e-03]\n",
            " [9.65670198e-02 9.01988029e-01 1.40834856e-03 2.25758868e-05\n",
            "  1.39257472e-05]\n",
            " [4.78903502e-02 9.37236845e-01 1.42624732e-02 4.55702131e-04\n",
            "  1.54587586e-04]\n",
            " [1.68848019e-02 8.49132955e-01 1.23764336e-01 8.29766504e-03\n",
            "  1.92034105e-03]\n",
            " [7.62283683e-01 2.29256332e-01 8.41726083e-03 4.21305922e-05\n",
            "  6.18042350e-07]\n",
            " [3.58470678e-01 6.37224078e-01 4.23062174e-03 6.01522515e-05\n",
            "  1.44564901e-05]\n",
            " [3.97277236e-01 6.01624727e-01 1.07061106e-03 1.90609771e-05\n",
            "  8.37608331e-06]\n",
            " [1.32893519e-02 9.60271358e-02 3.49123031e-01 4.40188468e-01\n",
            "  1.01372004e-01]\n",
            " [4.28732574e-01 5.66926062e-01 4.31744801e-03 2.27383789e-05\n",
            "  1.22013250e-06]\n",
            " [1.98773667e-02 8.85085240e-02 7.98562765e-01 9.26227495e-02\n",
            "  4.28525906e-04]\n",
            " [5.32926572e-03 2.22349446e-02 3.33590269e-01 6.14402354e-01\n",
            "  2.44431105e-02]\n",
            " [2.24334826e-06 1.45167534e-04 7.19786854e-04 1.80595163e-02\n",
            "  9.81073260e-01]\n",
            " [7.04091549e-01 2.95365632e-01 5.41941728e-04 8.59147804e-07\n",
            "  2.61288520e-08]\n",
            " [4.74125631e-02 9.02260363e-01 4.86531556e-02 1.49491266e-03\n",
            "  1.78926653e-04]\n",
            " [6.81037188e-01 3.17836195e-01 1.12391217e-03 2.60492948e-06\n",
            "  7.31455145e-08]\n",
            " [3.26628760e-05 2.49593426e-02 9.20144934e-03 2.05287188e-02\n",
            "  9.45277810e-01]\n",
            " [1.64813250e-02 7.26895183e-02 6.71436489e-01 2.36284941e-01\n",
            "  3.10766022e-03]\n",
            " [2.15966247e-06 1.10044202e-03 9.42989311e-04 6.16193051e-03\n",
            "  9.91792560e-01]\n",
            " [3.57732503e-03 9.13856626e-01 7.83810169e-02 3.49133671e-03\n",
            "  6.93672337e-04]\n",
            " [3.09915375e-02 7.81136155e-01 1.78681031e-01 8.42893217e-03\n",
            "  7.62225362e-04]\n",
            " [2.18320783e-04 4.36415523e-02 9.30455104e-02 2.46663183e-01\n",
            "  6.16431415e-01]\n",
            " [1.19985725e-06 8.33818980e-04 9.50937567e-04 7.68985320e-03\n",
            "  9.90524232e-01]\n",
            " [1.00352302e-01 8.88957679e-01 1.04544954e-02 1.91342289e-04\n",
            "  4.41635748e-05]\n",
            " [1.30865082e-01 8.52984428e-01 1.53139150e-02 5.07292745e-04\n",
            "  3.29398230e-04]\n",
            " [6.14574373e-01 3.69288176e-01 1.60239600e-02 1.10753841e-04\n",
            "  2.75720822e-06]\n",
            " [9.90262721e-03 9.30176198e-01 5.78810349e-02 1.75197131e-03\n",
            "  2.88146199e-04]\n",
            " [1.29108317e-04 2.02089120e-02 4.04154025e-02 1.54303178e-01\n",
            "  7.84943402e-01]\n",
            " [2.32297136e-03 6.43577278e-01 2.82275081e-01 5.11791259e-02\n",
            "  2.06455514e-02]\n",
            " [4.73440170e-01 5.14324367e-01 1.21720415e-02 6.17460537e-05\n",
            "  1.68352312e-06]\n",
            " [7.66306221e-01 2.31478140e-01 2.20866920e-03 6.75872980e-06\n",
            "  1.55534494e-07]\n",
            " [1.52915207e-04 2.87648216e-02 2.98194084e-02 8.21255445e-02\n",
            "  8.59137297e-01]\n",
            " [4.45572939e-03 9.80744064e-01 1.42965466e-02 3.62080027e-04\n",
            "  1.41583674e-04]\n",
            " [7.42094498e-03 7.15612888e-01 2.62008369e-01 1.41612208e-02\n",
            "  7.96563574e-04]\n",
            " [1.15391850e-01 8.79828513e-01 4.52304445e-03 1.38416173e-04\n",
            "  1.18155171e-04]\n",
            " [1.12345011e-03 5.72170913e-02 6.19345725e-01 3.17594498e-01\n",
            "  4.71922569e-03]\n",
            " [7.62606680e-01 2.37029418e-01 3.63321014e-04 5.61017202e-07\n",
            "  1.39996450e-08]\n",
            " [7.21489906e-01 2.78082579e-01 4.26807237e-04 7.25304119e-07\n",
            "  2.61240114e-08]\n",
            " [1.18635997e-01 8.73211920e-01 7.80041842e-03 1.96558860e-04\n",
            "  1.55113186e-04]\n",
            " [3.83385719e-04 5.31781912e-02 1.62193373e-01 3.88893872e-01\n",
            "  3.95351142e-01]\n",
            " [1.32237319e-05 4.76731104e-04 4.38332092e-03 8.96662548e-02\n",
            "  9.05460477e-01]\n",
            " [8.49340086e-06 3.63359274e-03 5.07928757e-03 2.79303659e-02\n",
            "  9.63348210e-01]\n",
            " [6.25005603e-01 3.60380054e-01 1.45152844e-02 9.70464025e-05\n",
            "  1.96692508e-06]\n",
            " [1.75945697e-05 2.54820357e-03 6.23865379e-03 4.42107581e-02\n",
            "  9.46984768e-01]\n",
            " [1.94010406e-03 9.74870563e-01 2.06855889e-02 9.95985465e-04\n",
            "  1.50776631e-03]\n",
            " [7.00305760e-01 2.83165425e-01 1.64541788e-02 7.35939466e-05\n",
            "  9.74068371e-07]\n",
            " [1.08981803e-01 8.89921486e-01 1.05269218e-03 2.31825943e-05\n",
            "  2.08938545e-05]\n",
            " [6.48657084e-01 2.83121228e-01 6.77568838e-02 4.59142990e-04\n",
            "  5.66261224e-06]\n",
            " [2.80249596e-01 7.19092846e-01 6.44559215e-04 7.96290715e-06\n",
            "  5.00035003e-06]\n",
            " [6.61838800e-03 9.23796177e-01 6.73055798e-02 1.96209992e-03\n",
            "  3.17728351e-04]\n",
            " [7.00305760e-01 2.83165425e-01 1.64541788e-02 7.35939466e-05\n",
            "  9.74068371e-07]\n",
            " [2.16733897e-03 3.86463970e-01 4.78214771e-01 1.20087512e-01\n",
            "  1.30663840e-02]\n",
            " [6.04112726e-03 8.09581459e-01 1.72144040e-01 1.05141010e-02\n",
            "  1.71926070e-03]\n",
            " [1.08208291e-01 8.44386876e-01 4.55443040e-02 1.60055538e-03\n",
            "  2.60039844e-04]\n",
            " [3.78018916e-02 1.55371666e-01 7.05441594e-01 1.00556158e-01\n",
            "  8.28673772e-04]\n",
            " [2.25225434e-04 3.87685969e-02 6.95950761e-02 1.67798728e-01\n",
            "  7.23612368e-01]\n",
            " [5.06509561e-04 3.18949707e-02 1.15177192e-01 3.39265764e-01\n",
            "  5.13155580e-01]\n",
            " [1.49135277e-01 8.45159531e-01 5.48787927e-03 1.30845685e-04\n",
            "  8.64191534e-05]\n",
            " [1.46464050e-01 8.39389980e-01 1.31729366e-02 5.51118050e-04\n",
            "  4.21993464e-04]\n",
            " [1.09329776e-04 2.27163136e-02 8.02101567e-02 2.60602802e-01\n",
            "  6.36361420e-01]\n",
            " [6.83143079e-01 3.16105306e-01 7.49248604e-04 2.30402475e-06\n",
            "  1.19299870e-07]\n",
            " [1.11487473e-03 1.17642775e-01 3.06489140e-01 4.09409016e-01\n",
            "  1.65344194e-01]\n",
            " [3.36721655e-07 4.60328229e-05 1.13059286e-04 2.56658555e-03\n",
            "  9.97273982e-01]\n",
            " [1.71786975e-02 6.54650152e-01 2.97506809e-01 2.84076724e-02\n",
            "  2.25658785e-03]\n",
            " [1.76810566e-02 8.28204036e-01 1.46799669e-01 6.70669274e-03\n",
            "  6.08425529e-04]\n",
            " [2.41514742e-01 7.27449119e-01 3.01083289e-02 8.13395018e-04\n",
            "  1.14345276e-04]\n",
            " [7.04091549e-01 2.95365632e-01 5.41941728e-04 8.59147804e-07\n",
            "  2.61288520e-08]\n",
            " [4.48697358e-01 5.32216847e-01 1.88520439e-02 2.19740003e-04\n",
            "  1.40506045e-05]\n",
            " [1.02236163e-05 8.60019645e-04 2.82660685e-03 2.79565621e-02\n",
            "  9.68346536e-01]\n",
            " [3.14118266e-01 1.64608598e-01 5.12179434e-01 9.07679647e-03\n",
            "  1.68833121e-05]\n",
            " [9.85188633e-02 9.00017798e-01 1.41120772e-03 2.58443361e-05\n",
            "  2.62786762e-05]\n",
            " [1.96842520e-04 2.04853490e-02 1.04454912e-01 3.45037580e-01\n",
            "  5.29825330e-01]\n",
            " [4.28732574e-01 5.66926062e-01 4.31744801e-03 2.27383789e-05\n",
            "  1.22013250e-06]\n",
            " [7.55616426e-01 2.41207629e-01 3.16745625e-03 8.35523952e-06\n",
            "  1.31483731e-07]\n",
            " [3.30875784e-01 6.64500296e-01 4.57862625e-03 4.10182001e-05\n",
            "  4.27516443e-06]\n",
            " [6.77979324e-06 2.74420809e-03 3.10870842e-03 1.83669496e-02\n",
            "  9.75773335e-01]\n",
            " [7.63707192e-07 5.75659506e-05 1.60382842e-04 3.41603952e-03\n",
            "  9.96365190e-01]\n",
            " [6.69997558e-02 9.20849860e-01 1.14817442e-02 3.87027801e-04\n",
            "  2.81627668e-04]\n",
            " [5.39182080e-03 9.80492353e-01 1.35635370e-02 3.94278235e-04\n",
            "  1.58084818e-04]\n",
            " [1.17128424e-01 8.78716230e-01 3.94521840e-03 1.00480465e-04\n",
            "  1.09689514e-04]\n",
            " [7.48418421e-02 7.69213438e-01 1.49756104e-01 5.98443858e-03\n",
            "  2.04087250e-04]\n",
            " [2.75615692e-01 6.89997673e-01 2.99980938e-02 2.27766973e-03\n",
            "  2.11087894e-03]\n",
            " [7.07898140e-01 2.89166361e-01 2.91687646e-03 1.75254499e-05\n",
            "  9.75443186e-07]\n",
            " [2.90335211e-05 2.15310953e-03 7.08907424e-03 6.45964816e-02\n",
            "  9.26132262e-01]\n",
            " [7.62606680e-01 2.37029418e-01 3.63321014e-04 5.61017202e-07\n",
            "  1.39996450e-08]\n",
            " [1.86627116e-02 9.77648914e-01 3.64546501e-03 3.52792304e-05\n",
            "  7.66803896e-06]\n",
            " [1.58413939e-04 9.55566950e-03 1.16169177e-01 6.06426775e-01\n",
            "  2.67690003e-01]\n",
            " [3.09518335e-04 7.89004657e-03 1.56960730e-02 8.95797461e-02\n",
            "  8.86524618e-01]\n",
            " [1.77399525e-05 1.07958978e-02 5.42167388e-03 1.61493067e-02\n",
            "  9.67615366e-01]\n",
            " [2.38480285e-01 2.95607090e-01 4.54825968e-01 1.10198567e-02\n",
            "  6.67650529e-05]\n",
            " [7.65858352e-01 2.33466491e-01 6.73248025e-04 1.77560503e-06\n",
            "  7.32176915e-08]\n",
            " [1.52887718e-03 9.52585816e-01 4.20940444e-02 2.38374900e-03\n",
            "  1.40740152e-03]\n",
            " [1.91299534e-07 3.23552013e-05 7.15072529e-05 1.73889939e-03\n",
            "  9.98157084e-01]\n",
            " [8.10173929e-01 1.89087510e-01 7.37086870e-04 1.47982348e-06\n",
            "  3.20409121e-08]\n",
            " [2.82052122e-02 9.59272206e-01 1.11242337e-02 5.54575759e-04\n",
            "  8.43771908e-04]\n",
            " [1.23027138e-01 8.66379976e-01 1.03432648e-02 1.87044017e-04\n",
            "  6.26048932e-05]\n",
            " [6.71433378e-03 6.88701093e-01 2.86290675e-01 1.69597249e-02\n",
            "  1.33413984e-03]\n",
            " [3.20524462e-02 1.20962702e-01 7.81189561e-01 6.52171299e-02\n",
            "  5.78157429e-04]\n",
            " [2.26152656e-06 3.47306428e-04 9.95750539e-04 1.26932049e-02\n",
            "  9.85961556e-01]\n",
            " [2.26360977e-01 7.66368806e-01 7.14231050e-03 1.10103327e-04\n",
            "  1.78141800e-05]\n",
            " [4.67770133e-06 4.49424348e-04 2.83483928e-03 4.85952087e-02\n",
            "  9.48115885e-01]\n",
            " [3.25386296e-04 4.29992285e-03 2.68484354e-02 2.37563714e-01\n",
            "  7.30962515e-01]\n",
            " [1.17572315e-01 8.64414334e-01 1.75546333e-02 3.76947573e-04\n",
            "  8.16948013e-05]\n",
            " [1.00078061e-01 8.89364123e-01 1.03029460e-02 2.03296324e-04\n",
            "  5.16185355e-05]\n",
            " [1.80762276e-01 8.19064558e-01 1.70059036e-04 1.58065450e-06\n",
            "  1.46185823e-06]\n",
            " [1.73724374e-07 4.54365290e-05 9.46570435e-05 2.03276472e-03\n",
            "  9.97826993e-01]\n",
            " [1.85485482e-02 9.38567042e-01 3.67283560e-02 2.49508186e-03\n",
            "  3.66100320e-03]\n",
            " [8.10173929e-01 1.89087510e-01 7.37086870e-04 1.47982348e-06\n",
            "  3.20409121e-08]\n",
            " [1.07005991e-01 1.27199411e-01 5.56938529e-01 2.02294841e-01\n",
            "  6.56118151e-03]\n",
            " [1.27506166e-06 8.80505613e-05 2.35934363e-04 4.71220771e-03\n",
            "  9.94962573e-01]\n",
            " [1.19411957e-03 9.52085674e-01 4.07199450e-02 2.87255691e-03\n",
            "  3.12781637e-03]\n",
            " [5.10249361e-02 9.41780686e-01 7.03918980e-03 1.24620346e-04\n",
            "  3.06459588e-05]\n",
            " [1.88411504e-05 3.50440387e-03 4.56370506e-03 2.40258705e-02\n",
            "  9.67887223e-01]\n",
            " [4.38743329e-04 4.00962681e-02 1.41298622e-01 3.70608777e-01\n",
            "  4.47557509e-01]\n",
            " [8.48249439e-03 9.45115089e-01 4.49949503e-02 1.19953114e-03\n",
            "  2.07917852e-04]\n",
            " [1.78802349e-02 9.55039203e-01 2.22098008e-02 2.33999453e-03\n",
            "  2.53075501e-03]\n",
            " [3.34029384e-02 9.16182458e-01 4.62758765e-02 2.84222048e-03\n",
            "  1.29657157e-03]\n",
            " [1.25521763e-06 9.18560254e-05 3.53137933e-04 7.39450753e-03\n",
            "  9.92159247e-01]\n",
            " [6.51098132e-01 3.33138943e-01 1.55530786e-02 1.96088193e-04\n",
            "  1.38230453e-05]\n",
            " [4.85078245e-03 9.25526738e-01 6.60394281e-02 2.76590814e-03\n",
            "  8.17062624e-04]\n",
            " [6.35322332e-01 3.14543486e-01 4.96441908e-02 4.85019031e-04\n",
            "  4.98804457e-06]\n",
            " [8.31465647e-02 6.09664857e-01 2.97378153e-01 9.67571232e-03\n",
            "  1.34714981e-04]\n",
            " [5.86688697e-01 3.26385528e-01 8.59123766e-02 1.00613630e-03\n",
            "  7.23209132e-06]\n",
            " [2.10430156e-02 7.59758413e-01 2.09768057e-01 9.02136415e-03\n",
            "  4.09197848e-04]\n",
            " [2.50572036e-03 1.86794531e-02 6.02765560e-01 3.72843474e-01\n",
            "  3.20585072e-03]\n",
            " [4.58516646e-03 7.54487514e-01 2.23885000e-01 1.57161206e-02\n",
            "  1.32616656e-03]\n",
            " [1.28517281e-02 6.27066195e-01 3.32088739e-01 2.65926272e-02\n",
            "  1.40073837e-03]\n",
            " [2.78901971e-05 1.67352764e-03 4.41513071e-03 3.81496623e-02\n",
            "  9.55733776e-01]\n",
            " [6.98558271e-01 2.69316465e-01 3.18417847e-02 2.80456734e-04\n",
            "  2.93468793e-06]\n",
            " [1.81680396e-01 2.55199879e-01 5.35445809e-01 2.73954812e-02\n",
            "  2.78426887e-04]\n",
            " [8.71529222e-01 1.27034172e-01 1.43374724e-03 2.89066520e-06\n",
            "  2.72550942e-08]\n",
            " [1.78300574e-01 7.41718769e-01 7.79991597e-02 1.83948129e-03\n",
            "  1.41967030e-04]\n",
            " [1.44030945e-02 8.90589237e-01 8.77792165e-02 5.81915444e-03\n",
            "  1.40929827e-03]\n",
            " [8.86334926e-02 9.11286950e-01 7.81065537e-05 6.66156780e-07\n",
            "  7.16795853e-07]\n",
            " [4.53596158e-06 1.44294451e-03 1.78147072e-03 1.37390560e-02\n",
            "  9.83031988e-01]\n",
            " [2.00084287e-05 1.87893515e-03 1.00030843e-02 9.85634401e-02\n",
            "  8.89534533e-01]\n",
            " [6.29744351e-01 3.69761974e-01 4.92057938e-04 1.42825968e-06\n",
            "  1.33462692e-07]\n",
            " [1.79904461e-01 8.18648756e-01 1.40942365e-03 2.27030450e-05\n",
            "  1.46342190e-05]\n",
            " [1.73230246e-01 1.77701354e-01 6.07018888e-01 4.17389087e-02\n",
            "  3.10555275e-04]\n",
            " [5.94148710e-02 7.56535709e-01 1.73344269e-01 9.72004980e-03\n",
            "  9.85095510e-04]\n",
            " [4.33020159e-06 2.06935802e-04 6.88312110e-04 1.15978345e-02\n",
            "  9.87502575e-01]\n",
            " [2.80450713e-02 9.52579856e-01 1.90389268e-02 2.94078316e-04\n",
            "  4.20849574e-05]\n",
            " [7.66306221e-01 2.31478140e-01 2.20866920e-03 6.75872980e-06\n",
            "  1.55534494e-07]\n",
            " [1.14026573e-02 4.01390977e-02 7.31965005e-01 2.15012982e-01\n",
            "  1.48022466e-03]\n",
            " [4.01196837e-01 5.83417714e-01 1.52891660e-02 9.26494904e-05\n",
            "  3.58344937e-06]\n",
            " [8.71529222e-01 1.27034172e-01 1.43374724e-03 2.89066520e-06\n",
            "  2.72550942e-08]\n",
            " [3.57932947e-03 9.88973737e-01 7.10714329e-03 1.89204598e-04\n",
            "  1.50511667e-04]\n",
            " [4.86973852e-01 5.03023207e-01 9.91631858e-03 8.29314158e-05\n",
            "  3.70853809e-06]\n",
            " [6.81037188e-01 3.17836195e-01 1.12391217e-03 2.60492948e-06\n",
            "  7.31455145e-08]\n",
            " [2.92144835e-01 6.76046669e-01 3.13493721e-02 4.33824811e-04\n",
            "  2.53163271e-05]\n",
            " [6.17891783e-03 2.19004512e-01 6.30837083e-01 1.40219942e-01\n",
            "  3.75955366e-03]\n",
            " [7.57841408e-01 2.33575076e-01 8.53934512e-03 4.33806017e-05\n",
            "  7.23579319e-07]\n",
            " [2.14189076e-05 3.69430031e-03 7.11732777e-03 3.99309695e-02\n",
            "  9.49235976e-01]\n",
            " [8.80268362e-06 1.35440822e-03 4.08105180e-03 3.51337716e-02\n",
            "  9.59421933e-01]\n",
            " [4.07944055e-04 1.63547844e-01 1.08057454e-01 1.44265786e-01\n",
            "  5.83721042e-01]\n",
            " [7.65858352e-01 2.33466491e-01 6.73248025e-04 1.77560503e-06\n",
            "  7.32176915e-08]\n",
            " [3.34958236e-06 6.97222713e-04 2.19874433e-03 2.38203276e-02\n",
            "  9.73280370e-01]\n",
            " [6.26962646e-05 2.78322073e-03 1.47514176e-02 1.11503601e-01\n",
            "  8.70899081e-01]\n",
            " [6.29744351e-01 3.69761974e-01 4.92057938e-04 1.42825968e-06\n",
            "  1.33462692e-07]\n",
            " [9.02745351e-02 8.51871669e-01 5.30721396e-02 2.78600981e-03\n",
            "  1.99565664e-03]\n",
            " [7.41730901e-06 7.60641880e-04 1.23178458e-03 1.03977825e-02\n",
            "  9.87602413e-01]\n",
            " [1.08873121e-01 8.76773715e-01 1.37919551e-02 3.86742584e-04\n",
            "  1.74481524e-04]\n",
            " [4.27628495e-03 8.41716051e-01 1.34540111e-01 1.49897765e-02\n",
            "  4.47780173e-03]\n",
            " [4.40182430e-06 5.00798516e-04 2.37454963e-03 3.22614573e-02\n",
            "  9.64858830e-01]\n",
            " [2.17582550e-04 2.36672927e-02 2.32172944e-02 7.60304034e-02\n",
            "  8.76867414e-01]\n",
            " [4.60545052e-05 3.64483893e-02 2.91111115e-02 7.70429894e-02\n",
            "  8.57351482e-01]\n",
            " [6.84586726e-03 9.08406913e-01 7.74984434e-02 4.93072113e-03\n",
            "  2.31810450e-03]\n",
            " [4.30086076e-01 2.74165869e-01 2.90774703e-01 4.94058244e-03\n",
            "  3.28047972e-05]\n",
            " [2.16642525e-06 2.32808408e-04 9.07230191e-04 1.46742519e-02\n",
            "  9.84183550e-01]\n",
            " [1.31630883e-01 8.62114072e-01 6.14536600e-03 9.24701599e-05\n",
            "  1.71351694e-05]\n",
            " [1.29328566e-02 9.52584207e-01 3.37104350e-02 7.10048131e-04\n",
            "  6.24799723e-05]\n",
            " [3.62313464e-02 9.43932891e-01 1.86060891e-02 6.96661125e-04\n",
            "  5.33006561e-04]\n",
            " [6.06137104e-02 1.83980644e-01 6.92120731e-01 6.26743883e-02\n",
            "  6.10508665e-04]\n",
            " [1.14112406e-03 9.51962173e-01 4.12967876e-02 3.08761653e-03\n",
            "  2.51236884e-03]\n",
            " [6.73441496e-03 7.90563405e-01 1.82141244e-01 1.74205229e-02\n",
            "  3.14047188e-03]\n",
            " [1.98252037e-01 7.45849907e-01 5.50472029e-02 8.15717911e-04\n",
            "  3.50864611e-05]\n",
            " [9.94667411e-03 7.45445609e-01 1.60179928e-01 4.16648276e-02\n",
            "  4.27630059e-02]\n",
            " [3.05201620e-01 6.88209951e-01 6.33295299e-03 1.65763136e-04\n",
            "  8.97659920e-05]\n",
            " [4.07421088e-04 5.56923673e-02 1.06312588e-01 2.27009118e-01\n",
            "  6.10578537e-01]\n",
            " [2.03882068e-01 7.95968652e-01 1.42726800e-04 2.82683413e-06\n",
            "  3.70577777e-06]\n",
            " [1.72405120e-03 1.82602584e-01 1.25645131e-01 1.87324315e-01\n",
            "  5.02703905e-01]\n",
            " [2.32291937e-01 7.60763764e-01 6.85767550e-03 7.56434456e-05\n",
            "  1.09947732e-05]\n",
            " [8.77450657e-06 5.10158541e-04 3.38823395e-03 5.59685566e-02\n",
            "  9.40124333e-01]\n",
            " [3.99205880e-03 2.42411718e-01 5.22214174e-01 2.16573820e-01\n",
            "  1.48082497e-02]\n",
            " [2.49093503e-01 7.50726998e-01 1.76412344e-04 2.06235904e-06\n",
            "  1.00645639e-06]\n",
            " [7.21489906e-01 2.78082579e-01 4.26807237e-04 7.25304119e-07\n",
            "  2.61240114e-08]]\n",
            "[1 4 4 0 1 4 1 0 1 0 1 4 4 1 0 2 1 1 1 0 1 1 3 1 2 3 4 0 1 0 4 2 4 1 1 4 4\n",
            " 1 1 0 1 4 1 1 0 4 1 1 1 2 0 0 1 4 4 4 0 4 1 0 1 0 1 1 0 2 1 1 2 4 4 1 1 4\n",
            " 0 3 4 1 1 1 0 1 4 2 1 4 1 0 1 4 4 1 1 1 1 1 0 4 0 1 3 4 4 2 0 1 4 0 1 1 1\n",
            " 2 4 1 4 4 1 1 1 4 1 0 2 4 1 1 4 4 1 1 1 4 0 1 0 1 0 1 2 1 1 4 0 2 0 1 1 1\n",
            " 4 4 0 1 2 1 4 1 0 2 1 0 1 1 0 1 2 0 4 4 4 0 4 4 0 1 4 1 1 4 4 4 1 0 4 1 1\n",
            " 1 2 1 1 1 1 1 4 1 4 1 4 2 1 0]\n"
          ],
          "name": "stdout"
        }
      ]
    },
    {
      "cell_type": "code",
      "metadata": {
        "id": "suZcrQ8aqQmB",
        "colab_type": "code",
        "colab": {
          "base_uri": "https://localhost:8080/",
          "height": 190
        },
        "outputId": "85d07567-bf99-45cd-ff40-eaba548ee1b8"
      },
      "source": [
        "test_set_dir = os.path.join('/content/drive/My Drive/Projects/Neural_Network_Competition_Project/Phase_2/TestData/0')\n",
        "test_names = os.listdir(test_set_dir )\n",
        "print(\"Test data has: \", len(test_names) , \" images.\" )\n",
        "print(test_names[:10])\n",
        "image_prediction_dict = {}\n",
        "for x, y in zip(test_names,predictions):\n",
        "  image_prediction_dict[x] = y\n",
        "  \n",
        "class0 = [k for k,v in image_prediction_dict.items() if v == 0]\n",
        "class1 = [k for k,v in image_prediction_dict.items() if v == 1]\n",
        "class2 = [k for k,v in image_prediction_dict.items() if v == 2]\n",
        "class3 = [k for k,v in image_prediction_dict.items() if v == 3]\n",
        "class4 = [k for k,v in image_prediction_dict.items() if v == 4]\n",
        "print(\"\\nClass 0 images: \", len(class0), \"\\nClass 1 images: \", len(class1), \"\\nClass 2 images: \", len(class2), \"\\nClass 3 images: \" ,len(class3), \"\\nClass 4 images: \", len(class4))\n",
        "print(image_prediction_dict)"
      ],
      "execution_count": null,
      "outputs": [
        {
          "output_type": "stream",
          "text": [
            "Test data has:  200  images.\n",
            "['027976.jpg', '027323.jpg', '024060.jpg', '025187.jpg', '024242.jpg', '020597.jpg', '029232.jpg', '029425.jpg', '022628.jpg', '029019.jpg']\n",
            "\n",
            "Class 0 images:  37 \n",
            "Class 1 images:  89 \n",
            "Class 2 images:  17 \n",
            "Class 3 images:  4 \n",
            "Class 4 images:  53\n",
            "{'027976.jpg': 1, '027323.jpg': 4, '024060.jpg': 4, '025187.jpg': 0, '024242.jpg': 1, '020597.jpg': 4, '029232.jpg': 1, '029425.jpg': 0, '022628.jpg': 1, '029019.jpg': 0, '024256.jpg': 1, '026347.jpg': 4, '022145.jpg': 4, '027886.jpg': 1, '025692.jpg': 0, '026463.jpg': 2, '023513.jpg': 1, '020031.jpg': 1, '029866.jpg': 1, '027898.jpg': 0, '029650.jpg': 1, '021819.jpg': 1, '027072.jpg': 3, '027495.jpg': 1, '023537.jpg': 2, '021455.jpg': 3, '023291.jpg': 4, '025668.jpg': 0, '023112.jpg': 1, '027132.jpg': 0, '029841.jpg': 4, '029484.jpg': 2, '021095.jpg': 4, '020810.jpg': 1, '024768.jpg': 1, '024739.jpg': 4, '025225.jpg': 4, '027228.jpg': 1, '025755.jpg': 1, '020980.jpg': 0, '023846.jpg': 1, '022757.jpg': 4, '029251.jpg': 1, '024641.jpg': 1, '028433.jpg': 0, '027161.jpg': 4, '021104.jpg': 1, '029594.jpg': 1, '027938.jpg': 1, '023330.jpg': 2, '022158.jpg': 0, '028565.jpg': 0, '029311.jpg': 1, '024606.jpg': 4, '029431.jpg': 4, '021220.jpg': 4, '022554.jpg': 0, '029352.jpg': 4, '027030.jpg': 1, '021773.jpg': 0, '024530.jpg': 1, '022800.jpg': 0, '023542.jpg': 1, '021818.jpg': 1, '028321.jpg': 0, '021729.jpg': 2, '024201.jpg': 1, '024608.jpg': 1, '024292.jpg': 2, '025770.jpg': 4, '023674.jpg': 4, '025625.jpg': 1, '028807.jpg': 1, '020881.jpg': 4, '028512.jpg': 0, '023278.jpg': 3, '029043.jpg': 4, '027258.jpg': 1, '026268.jpg': 1, '020783.jpg': 1, '028193.jpg': 0, '028753.jpg': 1, '022021.jpg': 4, '021763.jpg': 2, '020861.jpg': 1, '022127.jpg': 4, '027691.jpg': 1, '023508.jpg': 0, '024949.jpg': 1, '025679.jpg': 4, '025088.jpg': 4, '023476.jpg': 1, '029095.jpg': 1, '028359.jpg': 1, '024988.jpg': 1, '029610.jpg': 1, '024928.jpg': 0, '023897.jpg': 4, '020244.jpg': 0, '024535.jpg': 1, '025325.jpg': 3, '023041.jpg': 4, '026670.jpg': 4, '020833.jpg': 2, '021366.jpg': 0, '020795.jpg': 1, '022642.jpg': 4, '024801.jpg': 0, '027094.jpg': 1, '022497.jpg': 1, '027838.jpg': 1, '022090.jpg': 2, '025328.jpg': 4, '024689.jpg': 1, '022438.jpg': 4, '023468.jpg': 4, '022231.jpg': 1, '026155.jpg': 1, '020848.jpg': 1, '024373.jpg': 4, '021267.jpg': 1, '020446.jpg': 0, '026947.jpg': 2, '022010.jpg': 4, '022385.jpg': 1, '023370.jpg': 1, '023304.jpg': 4, '027353.jpg': 4, '027897.jpg': 1, '022826.jpg': 1, '024888.jpg': 1, '021659.jpg': 4, '025722.jpg': 0, '027314.jpg': 1, '023780.jpg': 0, '029787.jpg': 1, '025268.jpg': 0, '025861.jpg': 1, '027535.jpg': 2, '027762.jpg': 1, '026861.jpg': 1, '029897.jpg': 4, '023686.jpg': 0, '028935.jpg': 2, '023381.jpg': 0, '028141.jpg': 1, '026199.jpg': 1, '024774.jpg': 1, '026099.jpg': 4, '025287.jpg': 4, '023474.jpg': 0, '026728.jpg': 1, '029545.jpg': 2, '024317.jpg': 1, '026982.jpg': 4, '023624.jpg': 1, '028537.jpg': 0, '020963.jpg': 2, '023369.jpg': 1, '025410.jpg': 0, '025146.jpg': 1, '028307.jpg': 1, '023195.jpg': 0, '021048.jpg': 1, '021039.jpg': 2, '023229.jpg': 0, '026256.jpg': 4, '027780.jpg': 4, '027769.jpg': 4, '026563.jpg': 0, '026627.jpg': 4, '020877.jpg': 4, '027299.jpg': 0, '021423.jpg': 1, '026110.jpg': 4, '020835.jpg': 1, '025111.jpg': 1, '028729.jpg': 4, '029413.jpg': 4, '026277.jpg': 4, '021457.jpg': 1, '025038.jpg': 0, '028063.jpg': 4, '028244.jpg': 1, '023458.jpg': 1, '020720.jpg': 1, '021621.jpg': 2, '027686.jpg': 1, '022202.jpg': 1, '025179.jpg': 1, '022432.jpg': 1, '026028.jpg': 1, '022629.jpg': 4, '024576.jpg': 1, '026370.jpg': 4, '026346.jpg': 1, '022551.jpg': 4, '023822.jpg': 2, '022377.jpg': 1, '020693.jpg': 0}\n"
          ],
          "name": "stdout"
        }
      ]
    },
    {
      "cell_type": "code",
      "metadata": {
        "id": "TiUHODE7qWsW",
        "colab_type": "code",
        "colab": {
          "base_uri": "https://localhost:8080/",
          "height": 173
        },
        "outputId": "b4687935-c8f0-4f66-f4ef-007cffbe0fa2"
      },
      "source": [
        "from numpy import argmax\n",
        "from keras.utils import to_categorical\n",
        "from numpy import array\n",
        "# define example\n",
        "data = predictions\n",
        "data = array(data)\n",
        "print(data)\n",
        "# one hot encode\n",
        "encoded = to_categorical(data)\n",
        "int_convert = []\n",
        "for x in encoded:\n",
        "  int_convert.append([int(k) for k in x])\n",
        "print(int_convert)\n",
        "\n",
        "import csv\n",
        "csvfile = open('/content/drive/My Drive/Projects/Neural_Network_Competition_Project/Phase_2/predictvggbest.csv','w', newline='')\n",
        "obj1 = csv.writer(csvfile)\n",
        "obj1.writerows(int_convert)\n",
        "csvfile.close()\n",
        "print(\"File Created\")"
      ],
      "execution_count": null,
      "outputs": [
        {
          "output_type": "stream",
          "text": [
            "[1 4 4 0 1 4 1 0 1 0 1 4 4 1 0 2 1 1 1 0 1 1 3 1 2 3 4 0 1 0 4 2 4 1 1 4 4\n",
            " 1 1 0 1 4 1 1 0 4 1 1 1 2 0 0 1 4 4 4 0 4 1 0 1 0 1 1 0 2 1 1 2 4 4 1 1 4\n",
            " 0 3 4 1 1 1 0 1 4 2 1 4 1 0 1 4 4 1 1 1 1 1 0 4 0 1 3 4 4 2 0 1 4 0 1 1 1\n",
            " 2 4 1 4 4 1 1 1 4 1 0 2 4 1 1 4 4 1 1 1 4 0 1 0 1 0 1 2 1 1 4 0 2 0 1 1 1\n",
            " 4 4 0 1 2 1 4 1 0 2 1 0 1 1 0 1 2 0 4 4 4 0 4 4 0 1 4 1 1 4 4 4 1 0 4 1 1\n",
            " 1 2 1 1 1 1 1 4 1 4 1 4 2 1 0]\n",
            "[[0, 1, 0, 0, 0], [0, 0, 0, 0, 1], [0, 0, 0, 0, 1], [1, 0, 0, 0, 0], [0, 1, 0, 0, 0], [0, 0, 0, 0, 1], [0, 1, 0, 0, 0], [1, 0, 0, 0, 0], [0, 1, 0, 0, 0], [1, 0, 0, 0, 0], [0, 1, 0, 0, 0], [0, 0, 0, 0, 1], [0, 0, 0, 0, 1], [0, 1, 0, 0, 0], [1, 0, 0, 0, 0], [0, 0, 1, 0, 0], [0, 1, 0, 0, 0], [0, 1, 0, 0, 0], [0, 1, 0, 0, 0], [1, 0, 0, 0, 0], [0, 1, 0, 0, 0], [0, 1, 0, 0, 0], [0, 0, 0, 1, 0], [0, 1, 0, 0, 0], [0, 0, 1, 0, 0], [0, 0, 0, 1, 0], [0, 0, 0, 0, 1], [1, 0, 0, 0, 0], [0, 1, 0, 0, 0], [1, 0, 0, 0, 0], [0, 0, 0, 0, 1], [0, 0, 1, 0, 0], [0, 0, 0, 0, 1], [0, 1, 0, 0, 0], [0, 1, 0, 0, 0], [0, 0, 0, 0, 1], [0, 0, 0, 0, 1], [0, 1, 0, 0, 0], [0, 1, 0, 0, 0], [1, 0, 0, 0, 0], [0, 1, 0, 0, 0], [0, 0, 0, 0, 1], [0, 1, 0, 0, 0], [0, 1, 0, 0, 0], [1, 0, 0, 0, 0], [0, 0, 0, 0, 1], [0, 1, 0, 0, 0], [0, 1, 0, 0, 0], [0, 1, 0, 0, 0], [0, 0, 1, 0, 0], [1, 0, 0, 0, 0], [1, 0, 0, 0, 0], [0, 1, 0, 0, 0], [0, 0, 0, 0, 1], [0, 0, 0, 0, 1], [0, 0, 0, 0, 1], [1, 0, 0, 0, 0], [0, 0, 0, 0, 1], [0, 1, 0, 0, 0], [1, 0, 0, 0, 0], [0, 1, 0, 0, 0], [1, 0, 0, 0, 0], [0, 1, 0, 0, 0], [0, 1, 0, 0, 0], [1, 0, 0, 0, 0], [0, 0, 1, 0, 0], [0, 1, 0, 0, 0], [0, 1, 0, 0, 0], [0, 0, 1, 0, 0], [0, 0, 0, 0, 1], [0, 0, 0, 0, 1], [0, 1, 0, 0, 0], [0, 1, 0, 0, 0], [0, 0, 0, 0, 1], [1, 0, 0, 0, 0], [0, 0, 0, 1, 0], [0, 0, 0, 0, 1], [0, 1, 0, 0, 0], [0, 1, 0, 0, 0], [0, 1, 0, 0, 0], [1, 0, 0, 0, 0], [0, 1, 0, 0, 0], [0, 0, 0, 0, 1], [0, 0, 1, 0, 0], [0, 1, 0, 0, 0], [0, 0, 0, 0, 1], [0, 1, 0, 0, 0], [1, 0, 0, 0, 0], [0, 1, 0, 0, 0], [0, 0, 0, 0, 1], [0, 0, 0, 0, 1], [0, 1, 0, 0, 0], [0, 1, 0, 0, 0], [0, 1, 0, 0, 0], [0, 1, 0, 0, 0], [0, 1, 0, 0, 0], [1, 0, 0, 0, 0], [0, 0, 0, 0, 1], [1, 0, 0, 0, 0], [0, 1, 0, 0, 0], [0, 0, 0, 1, 0], [0, 0, 0, 0, 1], [0, 0, 0, 0, 1], [0, 0, 1, 0, 0], [1, 0, 0, 0, 0], [0, 1, 0, 0, 0], [0, 0, 0, 0, 1], [1, 0, 0, 0, 0], [0, 1, 0, 0, 0], [0, 1, 0, 0, 0], [0, 1, 0, 0, 0], [0, 0, 1, 0, 0], [0, 0, 0, 0, 1], [0, 1, 0, 0, 0], [0, 0, 0, 0, 1], [0, 0, 0, 0, 1], [0, 1, 0, 0, 0], [0, 1, 0, 0, 0], [0, 1, 0, 0, 0], [0, 0, 0, 0, 1], [0, 1, 0, 0, 0], [1, 0, 0, 0, 0], [0, 0, 1, 0, 0], [0, 0, 0, 0, 1], [0, 1, 0, 0, 0], [0, 1, 0, 0, 0], [0, 0, 0, 0, 1], [0, 0, 0, 0, 1], [0, 1, 0, 0, 0], [0, 1, 0, 0, 0], [0, 1, 0, 0, 0], [0, 0, 0, 0, 1], [1, 0, 0, 0, 0], [0, 1, 0, 0, 0], [1, 0, 0, 0, 0], [0, 1, 0, 0, 0], [1, 0, 0, 0, 0], [0, 1, 0, 0, 0], [0, 0, 1, 0, 0], [0, 1, 0, 0, 0], [0, 1, 0, 0, 0], [0, 0, 0, 0, 1], [1, 0, 0, 0, 0], [0, 0, 1, 0, 0], [1, 0, 0, 0, 0], [0, 1, 0, 0, 0], [0, 1, 0, 0, 0], [0, 1, 0, 0, 0], [0, 0, 0, 0, 1], [0, 0, 0, 0, 1], [1, 0, 0, 0, 0], [0, 1, 0, 0, 0], [0, 0, 1, 0, 0], [0, 1, 0, 0, 0], [0, 0, 0, 0, 1], [0, 1, 0, 0, 0], [1, 0, 0, 0, 0], [0, 0, 1, 0, 0], [0, 1, 0, 0, 0], [1, 0, 0, 0, 0], [0, 1, 0, 0, 0], [0, 1, 0, 0, 0], [1, 0, 0, 0, 0], [0, 1, 0, 0, 0], [0, 0, 1, 0, 0], [1, 0, 0, 0, 0], [0, 0, 0, 0, 1], [0, 0, 0, 0, 1], [0, 0, 0, 0, 1], [1, 0, 0, 0, 0], [0, 0, 0, 0, 1], [0, 0, 0, 0, 1], [1, 0, 0, 0, 0], [0, 1, 0, 0, 0], [0, 0, 0, 0, 1], [0, 1, 0, 0, 0], [0, 1, 0, 0, 0], [0, 0, 0, 0, 1], [0, 0, 0, 0, 1], [0, 0, 0, 0, 1], [0, 1, 0, 0, 0], [1, 0, 0, 0, 0], [0, 0, 0, 0, 1], [0, 1, 0, 0, 0], [0, 1, 0, 0, 0], [0, 1, 0, 0, 0], [0, 0, 1, 0, 0], [0, 1, 0, 0, 0], [0, 1, 0, 0, 0], [0, 1, 0, 0, 0], [0, 1, 0, 0, 0], [0, 1, 0, 0, 0], [0, 0, 0, 0, 1], [0, 1, 0, 0, 0], [0, 0, 0, 0, 1], [0, 1, 0, 0, 0], [0, 0, 0, 0, 1], [0, 0, 1, 0, 0], [0, 1, 0, 0, 0], [1, 0, 0, 0, 0]]\n",
            "File Created\n"
          ],
          "name": "stdout"
        }
      ]
    },
    {
      "cell_type": "code",
      "metadata": {
        "id": "e1CZQaQOTtD1",
        "colab_type": "code",
        "colab": {
          "base_uri": "https://localhost:8080/",
          "height": 34
        },
        "outputId": "f7211856-fb92-4b2a-a898-421e4671ea4c"
      },
      "source": [
        "filenames[6]"
      ],
      "execution_count": null,
      "outputs": [
        {
          "output_type": "execute_result",
          "data": {
            "text/plain": [
              "'0/020783.jpg'"
            ]
          },
          "metadata": {
            "tags": []
          },
          "execution_count": 27
        }
      ]
    },
    {
      "cell_type": "code",
      "metadata": {
        "id": "ClFmQOJuVgHk",
        "colab_type": "code",
        "colab": {
          "base_uri": "https://localhost:8080/",
          "height": 1000
        },
        "outputId": "d67db8d9-aafb-4894-804d-7a8873e03a07"
      },
      "source": [
        "for i in range(len(filenames)):\n",
        "  print(i + 1 , \" : \" , filenames[i])"
      ],
      "execution_count": null,
      "outputs": [
        {
          "output_type": "stream",
          "text": [
            "1  :  0/020031.jpg\n",
            "2  :  0/020244.jpg\n",
            "3  :  0/020446.jpg\n",
            "4  :  0/020597.jpg\n",
            "5  :  0/020693.jpg\n",
            "6  :  0/020720.jpg\n",
            "7  :  0/020783.jpg\n",
            "8  :  0/020795.jpg\n",
            "9  :  0/020810.jpg\n",
            "10  :  0/020833.jpg\n",
            "11  :  0/020835.jpg\n",
            "12  :  0/020848.jpg\n",
            "13  :  0/020861.jpg\n",
            "14  :  0/020877.jpg\n",
            "15  :  0/020881.jpg\n",
            "16  :  0/020963.jpg\n",
            "17  :  0/020980.jpg\n",
            "18  :  0/021039.jpg\n",
            "19  :  0/021048.jpg\n",
            "20  :  0/021095.jpg\n",
            "21  :  0/021104.jpg\n",
            "22  :  0/021220.jpg\n",
            "23  :  0/021267.jpg\n",
            "24  :  0/021366.jpg\n",
            "25  :  0/021423.jpg\n",
            "26  :  0/021455.jpg\n",
            "27  :  0/021457.jpg\n",
            "28  :  0/021621.jpg\n",
            "29  :  0/021659.jpg\n",
            "30  :  0/021729.jpg\n",
            "31  :  0/021763.jpg\n",
            "32  :  0/021773.jpg\n",
            "33  :  0/021818.jpg\n",
            "34  :  0/021819.jpg\n",
            "35  :  0/022010.jpg\n",
            "36  :  0/022021.jpg\n",
            "37  :  0/022090.jpg\n",
            "38  :  0/022127.jpg\n",
            "39  :  0/022145.jpg\n",
            "40  :  0/022158.jpg\n",
            "41  :  0/022202.jpg\n",
            "42  :  0/022231.jpg\n",
            "43  :  0/022377.jpg\n",
            "44  :  0/022385.jpg\n",
            "45  :  0/022432.jpg\n",
            "46  :  0/022438.jpg\n",
            "47  :  0/022497.jpg\n",
            "48  :  0/022551.jpg\n",
            "49  :  0/022554.jpg\n",
            "50  :  0/022628.jpg\n",
            "51  :  0/022629.jpg\n",
            "52  :  0/022642.jpg\n",
            "53  :  0/022757.jpg\n",
            "54  :  0/022800.jpg\n",
            "55  :  0/022826.jpg\n",
            "56  :  0/023041.jpg\n",
            "57  :  0/023112.jpg\n",
            "58  :  0/023195.jpg\n",
            "59  :  0/023229.jpg\n",
            "60  :  0/023278.jpg\n",
            "61  :  0/023291.jpg\n",
            "62  :  0/023304.jpg\n",
            "63  :  0/023330.jpg\n",
            "64  :  0/023369.jpg\n",
            "65  :  0/023370.jpg\n",
            "66  :  0/023381.jpg\n",
            "67  :  0/023458.jpg\n",
            "68  :  0/023468.jpg\n",
            "69  :  0/023474.jpg\n",
            "70  :  0/023476.jpg\n",
            "71  :  0/023508.jpg\n",
            "72  :  0/023513.jpg\n",
            "73  :  0/023537.jpg\n",
            "74  :  0/023542.jpg\n",
            "75  :  0/023624.jpg\n",
            "76  :  0/023674.jpg\n",
            "77  :  0/023686.jpg\n",
            "78  :  0/023780.jpg\n",
            "79  :  0/023822.jpg\n",
            "80  :  0/023846.jpg\n",
            "81  :  0/023897.jpg\n",
            "82  :  0/024060.jpg\n",
            "83  :  0/024201.jpg\n",
            "84  :  0/024242.jpg\n",
            "85  :  0/024256.jpg\n",
            "86  :  0/024292.jpg\n",
            "87  :  0/024317.jpg\n",
            "88  :  0/024373.jpg\n",
            "89  :  0/024530.jpg\n",
            "90  :  0/024535.jpg\n",
            "91  :  0/024576.jpg\n",
            "92  :  0/024606.jpg\n",
            "93  :  0/024608.jpg\n",
            "94  :  0/024641.jpg\n",
            "95  :  0/024689.jpg\n",
            "96  :  0/024739.jpg\n",
            "97  :  0/024768.jpg\n",
            "98  :  0/024774.jpg\n",
            "99  :  0/024801.jpg\n",
            "100  :  0/024888.jpg\n",
            "101  :  0/024928.jpg\n",
            "102  :  0/024949.jpg\n",
            "103  :  0/024988.jpg\n",
            "104  :  0/025038.jpg\n",
            "105  :  0/025088.jpg\n",
            "106  :  0/025111.jpg\n",
            "107  :  0/025146.jpg\n",
            "108  :  0/025179.jpg\n",
            "109  :  0/025187.jpg\n",
            "110  :  0/025225.jpg\n",
            "111  :  0/025268.jpg\n",
            "112  :  0/025287.jpg\n",
            "113  :  0/025325.jpg\n",
            "114  :  0/025328.jpg\n",
            "115  :  0/025410.jpg\n",
            "116  :  0/025625.jpg\n",
            "117  :  0/025668.jpg\n",
            "118  :  0/025679.jpg\n",
            "119  :  0/025692.jpg\n",
            "120  :  0/025722.jpg\n",
            "121  :  0/025755.jpg\n",
            "122  :  0/025770.jpg\n",
            "123  :  0/025861.jpg\n",
            "124  :  0/026028.jpg\n",
            "125  :  0/026099.jpg\n",
            "126  :  0/026110.jpg\n",
            "127  :  0/026155.jpg\n",
            "128  :  0/026199.jpg\n",
            "129  :  0/026256.jpg\n",
            "130  :  0/026268.jpg\n",
            "131  :  0/026277.jpg\n",
            "132  :  0/026346.jpg\n",
            "133  :  0/026347.jpg\n",
            "134  :  0/026370.jpg\n",
            "135  :  0/026463.jpg\n",
            "136  :  0/026563.jpg\n",
            "137  :  0/026627.jpg\n",
            "138  :  0/026670.jpg\n",
            "139  :  0/026728.jpg\n",
            "140  :  0/026861.jpg\n",
            "141  :  0/026947.jpg\n",
            "142  :  0/026982.jpg\n",
            "143  :  0/027030.jpg\n",
            "144  :  0/027072.jpg\n",
            "145  :  0/027094.jpg\n",
            "146  :  0/027132.jpg\n",
            "147  :  0/027161.jpg\n",
            "148  :  0/027228.jpg\n",
            "149  :  0/027258.jpg\n",
            "150  :  0/027299.jpg\n",
            "151  :  0/027314.jpg\n",
            "152  :  0/027323.jpg\n",
            "153  :  0/027353.jpg\n",
            "154  :  0/027495.jpg\n",
            "155  :  0/027535.jpg\n",
            "156  :  0/027686.jpg\n",
            "157  :  0/027691.jpg\n",
            "158  :  0/027762.jpg\n",
            "159  :  0/027769.jpg\n",
            "160  :  0/027780.jpg\n",
            "161  :  0/027838.jpg\n",
            "162  :  0/027886.jpg\n",
            "163  :  0/027897.jpg\n",
            "164  :  0/027898.jpg\n",
            "165  :  0/027938.jpg\n",
            "166  :  0/027976.jpg\n",
            "167  :  0/028063.jpg\n",
            "168  :  0/028141.jpg\n",
            "169  :  0/028193.jpg\n",
            "170  :  0/028244.jpg\n",
            "171  :  0/028307.jpg\n",
            "172  :  0/028321.jpg\n",
            "173  :  0/028359.jpg\n",
            "174  :  0/028433.jpg\n",
            "175  :  0/028512.jpg\n",
            "176  :  0/028537.jpg\n",
            "177  :  0/028565.jpg\n",
            "178  :  0/028729.jpg\n",
            "179  :  0/028753.jpg\n",
            "180  :  0/028807.jpg\n",
            "181  :  0/028935.jpg\n",
            "182  :  0/029019.jpg\n",
            "183  :  0/029043.jpg\n",
            "184  :  0/029095.jpg\n",
            "185  :  0/029232.jpg\n",
            "186  :  0/029251.jpg\n",
            "187  :  0/029311.jpg\n",
            "188  :  0/029352.jpg\n",
            "189  :  0/029413.jpg\n",
            "190  :  0/029425.jpg\n",
            "191  :  0/029431.jpg\n",
            "192  :  0/029484.jpg\n",
            "193  :  0/029545.jpg\n",
            "194  :  0/029594.jpg\n",
            "195  :  0/029610.jpg\n",
            "196  :  0/029650.jpg\n",
            "197  :  0/029787.jpg\n",
            "198  :  0/029841.jpg\n",
            "199  :  0/029866.jpg\n",
            "200  :  0/029897.jpg\n"
          ],
          "name": "stdout"
        }
      ]
    },
    {
      "cell_type": "code",
      "metadata": {
        "id": "jM0tqUvjbqWo",
        "colab_type": "code",
        "colab": {}
      },
      "source": [
        "predictions = vgg_model.predict_generator(validation_generator)\n",
        "val_preds = np.argmax(predictions, axis=-1)\n",
        "val_trues = validation_generator.classes\n",
        "cm = metrics.confusion_matrix(val_trues, val_preds)"
      ],
      "execution_count": null,
      "outputs": []
    },
    {
      "cell_type": "code",
      "metadata": {
        "id": "bYr66fzbhPlb",
        "colab_type": "code",
        "colab": {
          "base_uri": "https://localhost:8080/",
          "height": 255
        },
        "outputId": "0ff36e0b-266a-4ec9-a077-54b3fc1115ce"
      },
      "source": [
        "val_trues"
      ],
      "execution_count": null,
      "outputs": [
        {
          "output_type": "execute_result",
          "data": {
            "text/plain": [
              "array([0, 0, 0, 0, 0, 0, 0, 0, 0, 0, 0, 0, 0, 0, 0, 0, 0, 0, 0, 0, 0, 0,\n",
              "       0, 0, 0, 0, 0, 0, 0, 0, 0, 0, 0, 0, 0, 0, 0, 0, 0, 0, 0, 0, 0, 0,\n",
              "       0, 0, 0, 0, 0, 0, 0, 0, 0, 0, 0, 0, 0, 0, 0, 0, 0, 0, 0, 0, 0, 0,\n",
              "       0, 0, 0, 0, 0, 0, 0, 0, 0, 0, 0, 0, 0, 0, 0, 0, 0, 0, 0, 0, 0, 0,\n",
              "       0, 0, 0, 0, 0, 0, 0, 0, 0, 0, 0, 0, 0, 0, 0, 0, 0, 0, 0, 0, 0, 0,\n",
              "       0, 0, 0, 0, 0, 0, 0, 0, 0, 0, 0, 0, 1, 1, 1, 1, 1, 1, 1, 1, 1, 1,\n",
              "       1, 1, 1, 1, 1, 1, 1, 1, 1, 1, 1, 1, 1, 1, 1, 1, 1, 1, 1, 1, 1, 1,\n",
              "       1, 1, 1, 1, 1, 1, 1, 1, 1, 1, 1, 1, 1, 1, 1, 1, 1, 1, 1, 1, 1, 1,\n",
              "       1, 1, 1, 1, 1, 1, 1, 1, 1, 1, 1, 1, 2, 2, 2, 2, 2, 2, 2, 2, 2, 2,\n",
              "       2, 2, 2, 2, 2, 2, 2, 2, 2, 2, 2, 2, 3, 3, 3, 3, 3, 3, 3, 3, 3, 3,\n",
              "       3, 3, 3, 3, 3, 3, 3, 3, 3, 3, 3, 3, 3, 3, 3, 3, 3, 3, 3, 3, 3, 3,\n",
              "       3, 4, 4, 4, 4, 4, 4, 4, 4, 4, 4, 4, 4, 4, 4, 4, 4, 4, 4, 4, 4, 4,\n",
              "       4, 4, 4, 4, 4, 4, 4, 4, 4, 4, 4, 4, 4, 4, 4, 4, 4, 4, 4, 4, 4, 4,\n",
              "       4, 4, 4, 4, 4, 4], dtype=int32)"
            ]
          },
          "metadata": {
            "tags": []
          },
          "execution_count": 42
        }
      ]
    },
    {
      "cell_type": "code",
      "metadata": {
        "id": "izw9SL0UjiLr",
        "colab_type": "code",
        "colab": {
          "base_uri": "https://localhost:8080/",
          "height": 255
        },
        "outputId": "3a8d0266-b25a-4068-cde5-0ff2bb53e526"
      },
      "source": [
        "val_preds"
      ],
      "execution_count": null,
      "outputs": [
        {
          "output_type": "execute_result",
          "data": {
            "text/plain": [
              "array([4, 2, 0, 0, 0, 1, 0, 0, 2, 4, 0, 0, 4, 3, 0, 0, 0, 2, 1, 0, 0, 1,\n",
              "       2, 0, 0, 0, 0, 1, 4, 1, 2, 2, 0, 0, 4, 2, 4, 1, 0, 0, 3, 0, 1, 2,\n",
              "       3, 2, 4, 0, 2, 4, 3, 0, 4, 0, 0, 4, 0, 1, 2, 1, 0, 0, 1, 2, 4, 3,\n",
              "       0, 0, 0, 4, 4, 1, 0, 2, 0, 2, 4, 1, 0, 3, 3, 1, 3, 3, 3, 0, 3, 0,\n",
              "       4, 0, 4, 0, 3, 0, 1, 0, 0, 0, 4, 0, 2, 0, 4, 0, 4, 0, 4, 0, 0, 0,\n",
              "       4, 4, 1, 1, 3, 1, 0, 0, 0, 3, 2, 0, 0, 0, 2, 3, 2, 0, 1, 0, 0, 3,\n",
              "       2, 2, 1, 0, 1, 0, 1, 1, 0, 1, 2, 4, 0, 3, 0, 0, 1, 0, 0, 0, 1, 0,\n",
              "       0, 0, 3, 2, 0, 0, 0, 2, 1, 1, 0, 3, 0, 1, 2, 2, 0, 2, 0, 2, 0, 0,\n",
              "       4, 3, 2, 4, 0, 0, 0, 0, 3, 0, 4, 3, 0, 4, 3, 4, 0, 3, 0, 4, 0, 4,\n",
              "       3, 0, 4, 1, 0, 4, 0, 4, 2, 0, 0, 2, 1, 3, 4, 1, 3, 2, 0, 3, 4, 0,\n",
              "       2, 0, 3, 2, 2, 1, 0, 0, 2, 3, 4, 2, 1, 4, 1, 0, 0, 2, 1, 4, 0, 0,\n",
              "       0, 4, 1, 1, 4, 0, 4, 4, 1, 1, 0, 2, 0, 2, 4, 4, 0, 3, 2, 3, 1, 3,\n",
              "       2, 2, 1, 1, 3, 1, 2, 4, 1, 0, 4, 4, 0, 3, 3, 3, 3, 0, 2, 0, 0, 2,\n",
              "       0, 0, 0, 0, 1, 1])"
            ]
          },
          "metadata": {
            "tags": []
          },
          "execution_count": 52
        }
      ]
    },
    {
      "cell_type": "code",
      "metadata": {
        "id": "lOveab2ihClq",
        "colab_type": "code",
        "colab": {
          "base_uri": "https://localhost:8080/",
          "height": 102
        },
        "outputId": "1563981f-25f7-49aa-dd31-a9e0bdb39729"
      },
      "source": [
        "cm"
      ],
      "execution_count": null,
      "outputs": [
        {
          "output_type": "execute_result",
          "data": {
            "text/plain": [
              "array([[53, 17, 16, 14, 22],\n",
              "       [31, 11, 12,  8,  4],\n",
              "       [ 9,  1,  2,  3,  7],\n",
              "       [10,  6,  7,  5,  5],\n",
              "       [13, 11,  8,  8,  9]])"
            ]
          },
          "metadata": {
            "tags": []
          },
          "execution_count": 53
        }
      ]
    },
    {
      "cell_type": "code",
      "metadata": {
        "id": "kxSVI9OVh4pB",
        "colab_type": "code",
        "colab": {}
      },
      "source": [
        "precisions, recall, f1_score, _ = metrics.precision_recall_fscore_support(val_trues, val_preds)\n"
      ],
      "execution_count": null,
      "outputs": []
    },
    {
      "cell_type": "code",
      "metadata": {
        "id": "jIC5q3SLjNPr",
        "colab_type": "code",
        "colab": {
          "base_uri": "https://localhost:8080/",
          "height": 34
        },
        "outputId": "2cdbe17c-8981-48d6-ba9e-ebdf945f4a7b"
      },
      "source": [
        "metrics.accuracy_score(val_trues, val_preds)"
      ],
      "execution_count": null,
      "outputs": [
        {
          "output_type": "execute_result",
          "data": {
            "text/plain": [
              "0.273972602739726"
            ]
          },
          "metadata": {
            "tags": []
          },
          "execution_count": 54
        }
      ]
    },
    {
      "cell_type": "code",
      "metadata": {
        "id": "mgbGqZRDieyn",
        "colab_type": "code",
        "colab": {
          "base_uri": "https://localhost:8080/",
          "height": 34
        },
        "outputId": "e0f00b31-c38b-4e2a-8ec3-8fb51d8b8bae"
      },
      "source": [
        "precisions"
      ],
      "execution_count": null,
      "outputs": [
        {
          "output_type": "execute_result",
          "data": {
            "text/plain": [
              "array([0.45689655, 0.23913043, 0.04444444, 0.13157895, 0.19148936])"
            ]
          },
          "metadata": {
            "tags": []
          },
          "execution_count": 46
        }
      ]
    },
    {
      "cell_type": "code",
      "metadata": {
        "id": "bnzYscOligks",
        "colab_type": "code",
        "colab": {
          "base_uri": "https://localhost:8080/",
          "height": 34
        },
        "outputId": "caba4e91-ff60-4ca4-e2f1-0fc17eb7c32a"
      },
      "source": [
        "recall"
      ],
      "execution_count": null,
      "outputs": [
        {
          "output_type": "execute_result",
          "data": {
            "text/plain": [
              "array([0.43442623, 0.16666667, 0.09090909, 0.15151515, 0.18367347])"
            ]
          },
          "metadata": {
            "tags": []
          },
          "execution_count": 47
        }
      ]
    },
    {
      "cell_type": "code",
      "metadata": {
        "id": "VWIlgBzsij0S",
        "colab_type": "code",
        "colab": {
          "base_uri": "https://localhost:8080/",
          "height": 34
        },
        "outputId": "1acfc7e7-0fa4-4826-87c4-eee2ddb1b4af"
      },
      "source": [
        "f1_score"
      ],
      "execution_count": null,
      "outputs": [
        {
          "output_type": "execute_result",
          "data": {
            "text/plain": [
              "array([0.44537815, 0.19642857, 0.05970149, 0.14084507, 0.1875    ])"
            ]
          },
          "metadata": {
            "tags": []
          },
          "execution_count": 48
        }
      ]
    },
    {
      "cell_type": "code",
      "metadata": {
        "id": "_FSHEhqTjAIk",
        "colab_type": "code",
        "colab": {}
      },
      "source": [
        ""
      ],
      "execution_count": null,
      "outputs": []
    }
  ]
}